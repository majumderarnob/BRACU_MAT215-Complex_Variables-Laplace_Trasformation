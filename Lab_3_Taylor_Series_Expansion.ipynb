{
  "nbformat": 4,
  "nbformat_minor": 0,
  "metadata": {
    "colab": {
      "name": "Lab_3_Taylor_Series_Expansion.ipynb",
      "provenance": [],
      "include_colab_link": true
    },
    "kernelspec": {
      "name": "python3",
      "display_name": "Python 3"
    },
    "language_info": {
      "name": "python"
    }
  },
  "cells": [
    {
      "cell_type": "markdown",
      "metadata": {
        "id": "view-in-github",
        "colab_type": "text"
      },
      "source": [
        "<a href=\"https://colab.research.google.com/github/majumderarnob/BRACU_MAT215-Complex_Variables_and_Laplace_Trasformation/blob/main/Lab_3_Taylor_Series_Expansion.ipynb\" target=\"_parent\"><img src=\"https://colab.research.google.com/assets/colab-badge.svg\" alt=\"Open In Colab\"/></a>"
      ]
    },
    {
      "cell_type": "markdown",
      "source": [
        "# Taylor Series Expansion"
      ],
      "metadata": {
        "id": "1VWEK9ZmUp1l"
      }
    },
    {
      "cell_type": "markdown",
      "source": [
        "\n",
        "\n",
        "Make sure you remove and fill in any place that says `# YOUR CODE HERE`, as well as your `NAME`, `ID`, and `LAB_SECTION` below:"
      ],
      "metadata": {
        "id": "7Px1d8R7fYRk"
      }
    },
    {
      "cell_type": "code",
      "source": [
        "NAME = \"ARNOB MAJUMDER\"\n",
        "ID = \"20301089\"\n",
        "LAB_SECTION = \"09\""
      ],
      "metadata": {
        "id": "JuZHAJu8fqpZ"
      },
      "execution_count": null,
      "outputs": []
    },
    {
      "cell_type": "markdown",
      "source": [
        "Suppose that a function is analytic throughout a disk $|z-z_{0}|<R_{0}$ centered at $z_{0}$ and with radius $R_{0}$. Then $f(z)$ can take the power series form.\n",
        "\n",
        "![01.PNG](data:image/png;base64,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)"
      ],
      "metadata": {
        "id": "JPrnli_gUyP4"
      }
    },
    {
      "cell_type": "markdown",
      "source": [
        "$f(z)$ then according to the theorem takes the form\n",
        "\\begin{align}\n",
        "    f(z)=\\sum^{\\infty}_{n=0} a_{n}(z-z_{0})^{n} \\tag{1}\n",
        "\\end{align}\n",
        "where\n",
        "\\begin{align}\n",
        "    a_{n}=\\frac{f^{(n)}z_{(0)}}{n!} \\quad (n=0,1, 2,\\dots) \\tag{2}\n",
        "\\end{align}\n",
        "\n",
        "\n",
        "where the $f^{(n)}$ is the $n^{th}$ derivative of the function, $f(z)$.\n",
        "Here $Eq 1$ represents the series expansion of $f(z)$ about the point $z_{0}$. Of course $Eq 1$ can also be written as\n",
        "\\begin{align}\n",
        "f(z)=f(z_{0})+\\frac{f'(z_{0})}{1!}(z-z_{0}) + \\frac{f''(z_{0})}{2!}(z-z_{0})^{2} +\\dots \\quad (|z-z_{0}|<R_{0}). \\tag{3}\n",
        "\\end{align}\n",
        "\n",
        "In $Eq 3$ we have applied with the agreement that $f^{(0)}(z_{0})=f(z_{0})$ and the fact that $0!=1$.\n",
        "If a function $f$ is said to be analytic at a point $z_{0}$, must have a Taylor series about that point. For, if $f$ is analytic at $z_{0}$, it is analytic throughout the neighbourhood of $|z-z_{0}|<R_{0}$. It is also an important point to note that any any point $z$ inside the circle with $z_{0}$ as the center, with which the Taylor series is constructed will always converge.\n"
      ],
      "metadata": {
        "id": "86xsWsGzVQRk"
      }
    },
    {
      "cell_type": "markdown",
      "source": [
        "## Task:\n",
        "\n",
        "1. Expand $f(z) = \\frac{1}{z+1}$ using Taylor Series Expansion, where $n=3$. [$3^{rd}$ order of Taylor Series].\n",
        "\n",
        "2. Expand $f(z)$ about the point $z = 1$.\n",
        "\n",
        "3. Find the error for which, $error = f (1) - $answer of question $(2)$.\n"
      ],
      "metadata": {
        "id": "chQJQ6u1ZVED"
      }
    },
    {
      "cell_type": "code",
      "source": [
        "import math\n",
        "import sympy as sp\n",
        "from sympy import*"
      ],
      "metadata": {
        "id": "zfqsQwPBUwaw"
      },
      "execution_count": 17,
      "outputs": []
    },
    {
      "cell_type": "code",
      "source": [
        "# Let's define the Taylor Series Expansion, so that we can expand for any function for any order.\n",
        "# You can change any part of the code, but your code must be done inside a function.\n",
        "\n",
        "# Your code is here\n",
        "\n",
        "def TaylorSeriesExpansion(f,n):\n",
        "  Taylor_Series_Expanssion= 0\n",
        "  \n",
        "  for i in range(0, n + 1):\n",
        "    Taylor_Series_Expanssion = Taylor_Series_Expanssion + (((sp.diff(f, z, i)) / math.factorial(i)) * (pow((z - 1), i)))\n",
        "  return (Taylor_Series_Expanssion) \n",
        "\n",
        "  # f is the function, f(z) in terms of z.\n",
        "  # n is the order (the number of terms)\n",
        "  # your code should be able to expand according to the value of n.\n",
        "  # you are not allowed to hard code for n = 3\n",
        "  # the expanded function"
      ],
      "metadata": {
        "id": "I2Y-HmXy6mwl"
      },
      "execution_count": 37,
      "outputs": []
    },
    {
      "cell_type": "code",
      "source": [
        "# Call the function TaylorSeriesExpansion(f,n)\n",
        "# define 'f(z)' using sympy\n",
        "# import the necessary libraries\n",
        "\n",
        "z = sp.symbols('z', real=True)\n",
        "\n",
        "# Your code here\n",
        "f = 1 / (z + 1)\n",
        "n = 3\n",
        "Taylor_f = TaylorSeriesExpansion(f, n)\n",
        "\n",
        "# Your Code here\n",
        "pretty_print(Taylor_f)"
      ],
      "metadata": {
        "id": "JeXHNBMjdD21",
        "colab": {
          "base_uri": "https://localhost:8080/"
        },
        "outputId": "acafcf1b-2e76-4f30-f269-68083855a318"
      },
      "execution_count": 35,
      "outputs": [
        {
          "output_type": "stream",
          "name": "stdout",
          "text": [
            "         3          2                   \n",
            "  (z - 1)    (z - 1)     z - 1       1  \n",
            "- ──────── + ──────── - ──────── + ─────\n",
            "         4          3          2   z + 1\n",
            "  (z + 1)    (z + 1)    (z + 1)         \n"
          ]
        }
      ]
    },
    {
      "cell_type": "code",
      "execution_count": 36,
      "metadata": {
        "id": "Cerli2cpS5PC",
        "colab": {
          "base_uri": "https://localhost:8080/"
        },
        "outputId": "3d16329a-26bc-4528-c61c-dfbf16e59ba8"
      },
      "outputs": [
        {
          "output_type": "stream",
          "name": "stdout",
          "text": [
            "0\n"
          ]
        }
      ],
      "source": [
        "# Error calculation\n",
        "\n",
        "error = f.subs(z, 1) - TaylorSeriesExpansion(f,n).subs(z, 1)\n",
        "\n",
        "# Your Code here\n",
        "\n",
        "print(error)\n"
      ]
    }
  ]
}