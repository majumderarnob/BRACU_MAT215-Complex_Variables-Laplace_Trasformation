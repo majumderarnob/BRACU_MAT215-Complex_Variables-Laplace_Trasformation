{
  "cells": [
    {
      "cell_type": "markdown",
      "metadata": {
        "id": "view-in-github",
        "colab_type": "text"
      },
      "source": [
        "<a href=\"https://colab.research.google.com/github/majumderarnob/BRACU_MAT215-Complex_Variables_and_Laplace_Trasformation/blob/main/Lab_3_Complex_Integration_and_Contour_Integrals.ipynb\" target=\"_parent\"><img src=\"https://colab.research.google.com/assets/colab-badge.svg\" alt=\"Open In Colab\"/></a>"
      ]
    },
    {
      "cell_type": "markdown",
      "metadata": {
        "id": "IdJLSkeaolfH"
      },
      "source": [
        "#**Complex Integration and Contour Integrals**"
      ]
    },
    {
      "cell_type": "markdown",
      "metadata": {
        "id": "QO4E8lJZo5Ow"
      },
      "source": [
        "Make sure you remove and fill in any place that says `# YOUR CODE HERE`, as well as your `NAME`, `ID`, and `LAB_SECTION` below:"
      ]
    },
    {
      "cell_type": "code",
      "execution_count": null,
      "metadata": {
        "id": "Lr466DA0o-sJ"
      },
      "outputs": [],
      "source": [
        "NAME = \"ARNOB MAJUMDER\"\n",
        "ID = \"20301089\"\n",
        "LAB_SECTION = \"09\""
      ]
    },
    {
      "cell_type": "markdown",
      "metadata": {
        "id": "qBmrpF2DpBXt"
      },
      "source": [
        "##Integration using sympy"
      ]
    },
    {
      "cell_type": "markdown",
      "metadata": {
        "id": "6y14FDCRrq84"
      },
      "source": [
        "We will use [`scipy.integrate.quad`](https://docs.scipy.org/doc/scipy/reference/generated/scipy.integrate.quad.html#scipy-integrate-quad) to compute a definite integral. Also a [`lambda`](https://www.w3schools.com/python/python_lambda.asp) function will be used, which can take any number of arguments, but can only have one expression."
      ]
    },
    {
      "cell_type": "markdown",
      "metadata": {
        "id": "VIE0Rr2ssi5N"
      },
      "source": [
        "Single integrals\n",
        "\n",
        "$$\n",
        "\\int_{0}^{1} x^{3} \\sin (3 x) e^{3x} d x\n",
        "$$"
      ]
    },
    {
      "cell_type": "code",
      "execution_count": 1,
      "metadata": {
        "colab": {
          "base_uri": "https://localhost:8080/"
        },
        "id": "2vP3sLQesh1Q",
        "outputId": "bce04fb7-ba90-4782-8a0c-728c9a47795a"
      },
      "outputs": [
        {
          "output_type": "stream",
          "name": "stdout",
          "text": [
            "1.472127601108333\n",
            "1.6343899579366694e-14\n"
          ]
        }
      ],
      "source": [
        "import sympy as sp\n",
        "import numpy as np\n",
        "from scipy.integrate import quad\n",
        "integrand = lambda x: x**3 * np.sin(3*x) * np.exp(3*x)\n",
        "integral, integral_error = quad(integrand, 0, 1)\n",
        "print (integral)\n",
        "print (integral_error)"
      ]
    },
    {
      "cell_type": "code",
      "execution_count": 2,
      "metadata": {
        "id": "2m1lxfbrr4En",
        "outputId": "4c8c8d71-de46-4094-af19-99357723128d",
        "colab": {
          "base_uri": "https://localhost:8080/"
        }
      },
      "outputs": [
        {
          "output_type": "stream",
          "name": "stdout",
          "text": [
            "1.472127601108333\n",
            "1.6343899579366694e-14\n",
            "1.472127601108333\n"
          ]
        }
      ],
      "source": [
        "import sympy as sp\n",
        "import numpy as np\n",
        "from scipy.integrate import quad\n",
        "expression = lambda x: x**3 * np.sin(3*x) * np.exp(3*x)\n",
        "integral, integral_error = quad(expression, 0, 1)\n",
        "print(integral)\n",
        "print(integral_error)\n",
        "integral = quad(expression, 0, 1)[0]\n",
        "print(integral)"
      ]
    },
    {
      "cell_type": "markdown",
      "metadata": {
        "id": "T5vRHFhXtMba"
      },
      "source": [
        "Double Integrals\n",
        "\n",
        "$$\n",
        "\\int_{0}^{1} \\int_{-x}^{x^{2}} \\cos \\left(x+y^{2}\\right) d y d x\n",
        "$$"
      ]
    },
    {
      "cell_type": "code",
      "execution_count": 3,
      "metadata": {
        "colab": {
          "base_uri": "https://localhost:8080/"
        },
        "id": "35XEDEAPtSLA",
        "outputId": "4527c451-c8a2-45ad-f78e-bc6e034a83ba"
      },
      "outputs": [
        {
          "output_type": "stream",
          "name": "stdout",
          "text": [
            "0.5131189124115851\n",
            "1.2222205528786866e-14\n"
          ]
        }
      ],
      "source": [
        "from scipy.integrate import dblquad\n",
        "integrand = lambda y, x: np.cos(x+y**2)\n",
        "lwr_y = lambda x: -x\n",
        "upr_y = lambda x: x**2\n",
        "integral, integral_error = dblquad(integrand, 0, 1, lwr_y, upr_y)\n",
        "print (integral)\n",
        "print (integral_error)"
      ]
    },
    {
      "cell_type": "code",
      "execution_count": 4,
      "metadata": {
        "id": "jJS7ypPMr4Ex",
        "outputId": "54f24b40-b968-4794-d88c-0bcf3d1c23a3",
        "colab": {
          "base_uri": "https://localhost:8080/"
        }
      },
      "outputs": [
        {
          "output_type": "stream",
          "name": "stdout",
          "text": [
            "0.5131189124115851\n",
            "1.2222205528786866e-14\n"
          ]
        }
      ],
      "source": [
        "from scipy.integrate import dblquad\n",
        "expression = lambda y, x: np.cos(x+y**2)\n",
        "lower_y = lambda x: -x\n",
        "upper_y = lambda x: x**2\n",
        "integral, integral_error = dblquad(expression, 0, 1, lower_y, upper_y)\n",
        "print(integral)\n",
        "print(integral_error)"
      ]
    },
    {
      "cell_type": "markdown",
      "metadata": {
        "id": "ye1nfmVJuZt4"
      },
      "source": [
        "## Integration using Complex Numbers\n",
        "\n"
      ]
    },
    {
      "cell_type": "markdown",
      "metadata": {
        "id": "HbY_gH73vAW2"
      },
      "source": [
        "we define definite integrals of $w(t)$ over the domain $a ≤ t ≤ b$ as follows:\n",
        "\n",
        "\n",
        "$$\n",
        "\\int_{b}^{a} w(t) d t=\\int_{b}^{a} u(t) d t+i \\int_{b}^{a} v(t) d t\n",
        "$$\n",
        "Lets evaluate,\n",
        "$$\n",
        "\\int_{1}^{2}\\left(\\frac{1}{t}-i\\right)^{2} d t\n",
        "$$\n",
        "\n",
        "We will use `symbols` from `sympy`, discussed in last class, to evaluate in terms of $i$. Also here, we can apply integrals over a range, or in terms of $x$."
      ]
    },
    {
      "cell_type": "code",
      "execution_count": 5,
      "metadata": {
        "colab": {
          "base_uri": "https://localhost:8080/"
        },
        "id": "E4VcD7e2A5kg",
        "outputId": "a0c69d99-bc56-42b0-8afa-6b906fa369dc"
      },
      "outputs": [
        {
          "output_type": "stream",
          "name": "stdout",
          "text": [
            "0.5 + 2.0*I*log(2)\n",
            "-1.0*t - 2.0*I*log(t) - 1.0/t\n",
            "-0.5 - 2.0*I*log(2)\n"
          ]
        }
      ],
      "source": [
        "t = sp.symbols('t', real=True)\n",
        "z1= ((1/t)-1j)**2\n",
        "print(sp.integrate(z1,(t,2,1)))   #applying range\n",
        "z2=sp.integrate(z1,t)             # integrate in terms of x\n",
        "print(z2)\n",
        "print(z2.subs(t,2)-z2.subs(t,1))  #alternate method"
      ]
    },
    {
      "cell_type": "code",
      "execution_count": 6,
      "metadata": {
        "id": "z2f6Bq33r4E6",
        "outputId": "fd53fedf-9942-4510-9a8f-586e34723eba",
        "colab": {
          "base_uri": "https://localhost:8080/"
        }
      },
      "outputs": [
        {
          "output_type": "stream",
          "name": "stdout",
          "text": [
            "<class 'complex'>\n"
          ]
        }
      ],
      "source": [
        "var = 2 + 1j\n",
        "print(type(var))"
      ]
    },
    {
      "cell_type": "markdown",
      "metadata": {
        "id": "fsq_DvmhwcVb"
      },
      "source": [
        "##Task 1:\n",
        "\n",
        "Find the values of: \n",
        "\n",
        "$a. \n",
        "\\int_{0}^{1}\\left(\\frac{t^2}{2}-i\\right)^{3} d t\n",
        "$\n",
        "\n",
        "$b. \n",
        "\\int_{0}^{2}\\left(\\frac{z^3-4}{4}+2i\\right) d z\n",
        "$\n",
        "\n",
        "$c. \n",
        "\\int\\left(\\frac{x^2-4x+5y}{4x}\\right) d x\n",
        "$"
      ]
    },
    {
      "cell_type": "code",
      "execution_count": 13,
      "metadata": {
        "id": "kogjVvy1xjfp",
        "colab": {
          "base_uri": "https://localhost:8080/"
        },
        "outputId": "ecce69e6-7b04-4aa4-a084-831f8b054873"
      },
      "outputs": [
        {
          "output_type": "stream",
          "name": "stdout",
          "text": [
            "-0.482142857142857 + 0.85*I\n"
          ]
        }
      ],
      "source": [
        "# YOUR CODE HERE\n",
        "#Task_1(a)\n",
        "t = sp.symbols('t', real = True)\n",
        "z1= ( (t ** 2) / 2 - 1j) ** 3\n",
        "print(sp.integrate(z1,(t, 0, 1)))"
      ]
    },
    {
      "cell_type": "code",
      "source": [
        "#Task_1(b)\n",
        "z= sp.symbols('z', real=True)\n",
        "z1 =(((z ** 3) - 4) / 4 + 2j)\n",
        "print(sp.integrate(z1,(z, 0, 2)))"
      ],
      "metadata": {
        "colab": {
          "base_uri": "https://localhost:8080/"
        },
        "id": "6x27VX2-lnr_",
        "outputId": "26544637-95a5-4479-9620-50b46b449410"
      },
      "execution_count": 14,
      "outputs": [
        {
          "output_type": "stream",
          "name": "stdout",
          "text": [
            "-1 + 4.0*I\n"
          ]
        }
      ]
    },
    {
      "cell_type": "code",
      "source": [
        "#Task_1(c)\n",
        "x = sp.symbols('x')\n",
        "y= sp.symbols('y')\n",
        "f= (x**2 - 4*x + 5*y) / (4 * x)\n",
        "fInt=sp.integrate(f, x).simplify()\n",
        "print(fInt)"
      ],
      "metadata": {
        "colab": {
          "base_uri": "https://localhost:8080/"
        },
        "id": "FJoZQPBslvSx",
        "outputId": "0d6c5e41-c299-4c65-a6b2-4608494c5f22"
      },
      "execution_count": 15,
      "outputs": [
        {
          "output_type": "stream",
          "name": "stdout",
          "text": [
            "x**2/8 - x + 5*y*log(x)/4\n"
          ]
        }
      ]
    },
    {
      "cell_type": "markdown",
      "metadata": {
        "id": "rZ6fTdUsyZoD"
      },
      "source": [
        "##Contour Integrals"
      ]
    },
    {
      "cell_type": "markdown",
      "metadata": {
        "id": "Tysd4bv2ykvW"
      },
      "source": [
        "Integrals of **complex valued functions** of a **complex variable** are defined on a **contour** rather than on intervals of the real line.\n",
        "\n",
        "A **contour** is an arc consisting of a finite number of connected smooth arcs; that is, a **contour** is a piecewise smooth arcs joined end to end.\n"
      ]
    },
    {
      "cell_type": "markdown",
      "metadata": {
        "id": "MQKbBlpJzQs2"
      },
      "source": [
        "Let's use $f(z) = \\bar{z}$ and evaluate along two curves. Consider breaking up the contour as showed in the figure below,\n",
        "\n",
        "![1.JPG](data:image/jpeg;base64,/9j/4AAQSkZJRgABAQEAYABgAAD/4RD4RXhpZgAATU0AKgAAAAgABAE7AAIAAAAPAAAISodpAAQAAAABAAAIWpydAAEAAAAeAAAQ0uocAAcAAAgMAAAAPgAAAAAc6gAAAAgAAAAAAAAAAAAAAAAAAAAAAAAAAAAAAAAAAAAAAAAAAAAAAAAAAAAAAAAAAAAAAAAAAAAAAAAAAAAAAAAAAAAAAAAAAAAAAAAAAAAAAAAAAAAAAAAAAAAAAAAAAAAAAAAAAAAAAAAAAAAAAAAAAAAAAAAAAAAAAAAAAAAAAAAAAAAAAAAAAAAAAAAAAAAAAAAAAAAAAAAAAAAAAAAAAAAAAAAAAAAAAAAAAAAAAAAAAAAAAAAAAAAAAAAAAAAAAAAAAAAAAAAAAAAAAAAAAAAAAAAAAAAAAAAAAAAAAAAAAAAAAAAAAAAAAAAAAAAAAAAAAAAAAAAAAAAAAAAAAAAAAAAAAAAAAAAAAAAAAAAAAAAAAAAAAAAAAAAAAAAAAAAAAAAAAAAAAAAAAAAAAAAAAAAAAAAAAAAAAAAAAAAAAAAAAAAAAAAAAAAAAAAAAAAAAAAAAAAAAAAAAAAAAAAAAAAAAAAAAAAAAAAAAAAAAAAAAAAAAAAAAAAAAAAAAAAAAAAAAAAAAAAAAAAAAAAAAAAAAAAAAAAAAAAAAAAAAAAAAAAAAAAAAAAAAAAAAAAAAAAAAAAAAAAAAAAAAAAAAAAAAAAAAAAAAAAAAAAAAAAAAAAAAAAAAAAAAAAAAAAAAAAAAAAAAAAAAAAAAAAAAAAAAAAAAAAAAAAAAAAAAAAAAAAAAAAAAAAAAAAAAAAAAAAAAAAAAAAAAAAAAAAAAAAAAAAAAAAAAAAAAAAAAAAAAAAAAAAAAAAAAAAAAAAAAAAAAAAAAAAAAAAAAAAAAAAAAAAAAAAAAAAAAAAAAAAAAAAAAAAAAAAAAAAAAAAAAAAAAAAAAAAAAAAAAAAAAAAAAAAAAAAAAAAAAAAAAAAAAAAAAAAAAAAAAAAAAAAAAAAAAAAAAAAAAAAAAAAAAAAAAAAAAAAAAAAAAAAAAAAAAAAAAAAAAAAAAAAAAAAAAAAAAAAAAAAAAAAAAAAAAAAAAAAAAAAAAAAAAAAAAAAAAAAAAAAAAAAAAAAAAAAAAAAAAAAAAAAAAAAAAAAAAAAAAAAAAAAAAAAAAAAAAAAAAAAAAAAAAAAAAAAAAAAAAAAAAAAAAAAAAAAAAAAAAAAAAAAAAAAAAAAAAAAAAAAAAAAAAAAAAAAAAAAAAAAAAAAAAAAAAAAAAAAAAAAAAAAAAAAAAAAAAAAAAAAAAAAAAAAAAAAAAAAAAAAAAAAAAAAAAAAAAAAAAAAAAAAAAAAAAAAAAAAAAAAAAAAAAAAAAAAAAAAAAAAAAAAAAAAAAAAAAAAAAAAAAAAAAAAAAAAAAAAAAAAAAAAAAAAAAAAAAAAAAAAAAAAAAAAAAAAAAAAAAAAAAAAAAAAAAAAAAAAAAAAAAAAAAAAAAAAAAAAAAAAAAAAAAAAAAAAAAAAAAAAAAAAAAAAAAAAAAAAAAAAAAAAAAAAAAAAAAAAAAAAAAAAAAAAAAAAAAAAAAAAAAAAAAAAAAAAAAAAAAAAAAAAAAAAAAAAAAAAAAAAAAAAAAAAAAAAAAAAAAAAAAAAAAAAAAAAAAAAAAAAAAAAAAAAAAAAAAAAAAAAAAAAAAAAAAAAAAAAAAAAAAAAAAAAAAAAAAAAAAAAAAAAAAAAAAAAAAAAAAAAAAAAAAAAAAAAAAAAAAAAAAAAAAAAAAAAAAAAAAAAAAAAAAAAAAAAAAAAAAAAAAAAAAAAAAAAAAAAAAAAAAAAAAAAAAAAAAAAAAAAAAAAAAAAAAAAAAAAAAAAAAAAAAAAAAAAAAAAAAAAAAAAAAAAAAAAAAAAAAAAAAAAAAAAAAAAAAAAAAAAAAAAAAAAAAAAAAAAAAAAAAAAAAAAAAAAAAAAAAAAAAAAAAAAAAAAAAAAAAAAAAAAAAAAAAAAAAAAAAAAAAAAAAAAAAAAAAAAAAAAAAAAAAAAAAAAAAAAAAAAAAAAAAAAAAAAAAAAAAAAAAAAAAAAAAAAAAAAAAAAAAAAAAAAAAAAAAAAAAAAAAAAAAAAAAAAAAAAAAAAAAAAAAAAAAAAAAAAAAAAAAAAAAAAAAAAAAAAAAAAAAAAAAAAAAAAAAAAAAAAAAAAAAAAAAAAAAAAAAAAAAAAAAAAAAAAAAAAAAAAAAAAAAAAAAAAAAAAAAAAAAAAAAAAAAAAAAAAAAAAAAAAAAAAAAAAAAAAAAAAAAAAAAAAAAAAAAAAAAAAAAAAAAAAAAAAAAAAAAAAAAAAAAAAAAAAAAAAAAAAAAAAAAAAAAAAAAAAAAAAAAAAAAAAAAAAAAAAAAAAAAAAAAAAAAAAAAAAAAAAAAAAAAAAAAAAAAAAAAAAAAAAAAAAAAAAAAAAAAAAAAAAAAAAAAAAAAAAAAAAAAAAAAAAAAAAAAAAAAAAAAAAAAAAAAAAAAAAAAAAAAAAAAAAAAAAAAAAAAAAAAAAAAAAAAAAAAAAAAAAAAAAAAAAAAAAAAAAAAAAAAAAAAAAAAAAAAAAAAAAAAAAAAAAAAAAAAAAAAAAAAAAAAAAAAAAAAAAAAAAAAAAAAAAAAAAAAAAAAAAAAAAAAAAAAAAAAAAAAAAAAAAAAAAAAAAAAAAAAAAAAAAAAAAAAAAAAAAAAAAAAAAAAAAAAAAAAAAAAAAAAAAAAAAAAAAAAAAAAAAAAAAAAAAAAAAAAAAAAAAAAAAAAAAAAAAAAAAAAAAAAAAAAAAAAAAAAAAAAAAAAAAAAAAAAAAAAAAAAAAAAAAAAAAAAAAAAAAAAAAAAAAAAE11emFoaWR1bCBSYWhpAAAABZADAAIAAAAUAAAQqJAEAAIAAAAUAAAQvJKRAAIAAAADODAAAJKSAAIAAAADODAAAOocAAcAAAgMAAAInAAAAAAc6gAAAAgAAAAAAAAAAAAAAAAAAAAAAAAAAAAAAAAAAAAAAAAAAAAAAAAAAAAAAAAAAAAAAAAAAAAAAAAAAAAAAAAAAAAAAAAAAAAAAAAAAAAAAAAAAAAAAAAAAAAAAAAAAAAAAAAAAAAAAAAAAAAAAAAAAAAAAAAAAAAAAAAAAAAAAAAAAAAAAAAAAAAAAAAAAAAAAAAAAAAAAAAAAAAAAAAAAAAAAAAAAAAAAAAAAAAAAAAAAAAAAAAAAAAAAAAAAAAAAAAAAAAAAAAAAAAAAAAAAAAAAAAAAAAAAAAAAAAAAAAAAAAAAAAAAAAAAAAAAAAAAAAAAAAAAAAAAAAAAAAAAAAAAAAAAAAAAAAAAAAAAAAAAAAAAAAAAAAAAAAAAAAAAAAAAAAAAAAAAAAAAAAAAAAAAAAAAAAAAAAAAAAAAAAAAAAAAAAAAAAAAAAAAAAAAAAAAAAAAAAAAAAAAAAAAAAAAAAAAAAAAAAAAAAAAAAAAAAAAAAAAAAAAAAAAAAAAAAAAAAAAAAAAAAAAAAAAAAAAAAAAAAAAAAAAAAAAAAAAAAAAAAAAAAAAAAAAAAAAAAAAAAAAAAAAAAAAAAAAAAAAAAAAAAAAAAAAAAAAAAAAAAAAAAAAAAAAAAAAAAAAAAAAAAAAAAAAAAAAAAAAAAAAAAAAAAAAAAAAAAAAAAAAAAAAAAAAAAAAAAAAAAAAAAAAAAAAAAAAAAAAAAAAAAAAAAAAAAAAAAAAAAAAAAAAAAAAAAAAAAAAAAAAAAAAAAAAAAAAAAAAAAAAAAAAAAAAAAAAAAAAAAAAAAAAAAAAAAAAAAAAAAAAAAAAAAAAAAAAAAAAAAAAAAAAAAAAAAAAAAAAAAAAAAAAAAAAAAAAAAAAAAAAAAAAAAAAAAAAAAAAAAAAAAAAAAAAAAAAAAAAAAAAAAAAAAAAAAAAAAAAAAAAAAAAAAAAAAAAAAAAAAAAAAAAAAAAAAAAAAAAAAAAAAAAAAAAAAAAAAAAAAAAAAAAAAAAAAAAAAAAAAAAAAAAAAAAAAAAAAAAAAAAAAAAAAAAAAAAAAAAAAAAAAAAAAAAAAAAAAAAAAAAAAAAAAAAAAAAAAAAAAAAAAAAAAAAAAAAAAAAAAAAAAAAAAAAAAAAAAAAAAAAAAAAAAAAAAAAAAAAAAAAAAAAAAAAAAAAAAAAAAAAAAAAAAAAAAAAAAAAAAAAAAAAAAAAAAAAAAAAAAAAAAAAAAAAAAAAAAAAAAAAAAAAAAAAAAAAAAAAAAAAAAAAAAAAAAAAAAAAAAAAAAAAAAAAAAAAAAAAAAAAAAAAAAAAAAAAAAAAAAAAAAAAAAAAAAAAAAAAAAAAAAAAAAAAAAAAAAAAAAAAAAAAAAAAAAAAAAAAAAAAAAAAAAAAAAAAAAAAAAAAAAAAAAAAAAAAAAAAAAAAAAAAAAAAAAAAAAAAAAAAAAAAAAAAAAAAAAAAAAAAAAAAAAAAAAAAAAAAAAAAAAAAAAAAAAAAAAAAAAAAAAAAAAAAAAAAAAAAAAAAAAAAAAAAAAAAAAAAAAAAAAAAAAAAAAAAAAAAAAAAAAAAAAAAAAAAAAAAAAAAAAAAAAAAAAAAAAAAAAAAAAAAAAAAAAAAAAAAAAAAAAAAAAAAAAAAAAAAAAAAAAAAAAAAAAAAAAAAAAAAAAAAAAAAAAAAAAAAAAAAAAAAAAAAAAAAAAAAAAAAAAAAAAAAAAAAAAAAAAAAAAAAAAAAAAAAAAAAAAAAAAAAAAAAAAAAAAAAAAAAAAAAAAAAAAAAAAAAAAAAAAAAAAAAAAAAAAAAAAAAAAAAAAAAAAAAAAAAAAAAAAAAAAAAAAAAAAAAAAAAAAAAAAAAAAAAAAAAAAAAAAAAAAAAAAAAAAAAAAAAAAAAAAAAAAAAAAAAAAAAAAAAAAAAAAAAAAAAAAAAAAAAAAAAAAAAAAAAAAAAAAAAAAAAAAAAAAAAAAAAAAAAAAAAAAAAAAAAAAAAAAAAAAAAAAAAAAAAAAAAAAAAAAAAAAAAAAAAAAAAAAAAAAAAAAAAAAAAAAAAAAAAAAAAAAAAAAAAAAAAAAAAAAAAAAAAAAAAAAAAAAAAAAAAAAAAAAAAAAAAAAAAAAAAAAAAAAAAAAAAAAAAAAAAAAAAAAAAAAAAAAAAAAAAAAAAAAAAAAAAAAAAAAAAAAAAAAAAAAAAAAAAAAAAAAAAAAAAAAAAAAAAAAAAAAAAAAAAAAAAAAAAAAAAAAAAAAAAAAAAAAAAAAAAAAAAAAAAAAAAAAAAAAAAAAAAAAAAAAAAAAAAAAAAAAAAAAAAAAAAAAAAAAAAAAAAAAAAAAAAAAAAAAAAAAAAAAAAAAAAAAAAAAAAAAAAAAAAAAAAAAAAAAAAAAAAAAAAAAAAAAAAAAAAAAAAAAAAAAAAAAAAAAAAAAAAAAAAAAAAAAAAAAAAAAAAAAAAAAAAAAAAAAAAAAAAAAAAAAAAAAAAAAAAAAAAAAAAAAAAAAAAAAAAAAAAAAAAAAAAAAAAAAAAAAAAAAAAAAAAAAAAAAAAAAAAAAAAAAAAAAAAAAAAAAAAAAAAAAAAAAAAAAAAAAAAAAAAAAAAAAAAAAAAAAAAAAAAAAAAAAAAAAAAAAAAAAAAAAAAAAAAAAAAAAAAAAAAAAAAAAAAAAAAAAAAAAAAAAAAAAAAAAAAAAAAAAAAAAAAAAAAAAAAAAAAAAAAAAAAAAAAAAAAAAAAAAAAAAAAAAAAAAAAAAAAAAAADIwMjI6MDc6MDMgMDc6MTc6MTEAMjAyMjowNzowMyAwNzoxNzoxMQAAAE0AdQB6AGEAaABpAGQAdQBsACAAUgBhAGgAaQAAAP/hCyFodHRwOi8vbnMuYWRvYmUuY29tL3hhcC8xLjAvADw/eHBhY2tldCBiZWdpbj0n77u/JyBpZD0nVzVNME1wQ2VoaUh6cmVTek5UY3prYzlkJz8+DQo8eDp4bXBtZXRhIHhtbG5zOng9ImFkb2JlOm5zOm1ldGEvIj48cmRmOlJERiB4bWxuczpyZGY9Imh0dHA6Ly93d3cudzMub3JnLzE5OTkvMDIvMjItcmRmLXN5bnRheC1ucyMiPjxyZGY6RGVzY3JpcHRpb24gcmRmOmFib3V0PSJ1dWlkOmZhZjViZGQ1LWJhM2QtMTFkYS1hZDMxLWQzM2Q3NTE4MmYxYiIgeG1sbnM6ZGM9Imh0dHA6Ly9wdXJsLm9yZy9kYy9lbGVtZW50cy8xLjEvIi8+PHJkZjpEZXNjcmlwdGlvbiByZGY6YWJvdXQ9InV1aWQ6ZmFmNWJkZDUtYmEzZC0xMWRhLWFkMzEtZDMzZDc1MTgyZjFiIiB4bWxuczp4bXA9Imh0dHA6Ly9ucy5hZG9iZS5jb20veGFwLzEuMC8iPjx4bXA6Q3JlYXRlRGF0ZT4yMDIyLTA3LTAzVDA3OjE3OjExLjc5NjwveG1wOkNyZWF0ZURhdGU+PC9yZGY6RGVzY3JpcHRpb24+PHJkZjpEZXNjcmlwdGlvbiByZGY6YWJvdXQ9InV1aWQ6ZmFmNWJkZDUtYmEzZC0xMWRhLWFkMzEtZDMzZDc1MTgyZjFiIiB4bWxuczpkYz0iaHR0cDovL3B1cmwub3JnL2RjL2VsZW1lbnRzLzEuMS8iPjxkYzpjcmVhdG9yPjxyZGY6U2VxIHhtbG5zOnJkZj0iaHR0cDovL3d3dy53My5vcmcvMTk5OS8wMi8yMi1yZGYtc3ludGF4LW5zIyI+PHJkZjpsaT5NdXphaGlkdWwgUmFoaTwvcmRmOmxpPjwvcmRmOlNlcT4NCgkJCTwvZGM6Y3JlYXRvcj48L3JkZjpEZXNjcmlwdGlvbj48L3JkZjpSREY+PC94OnhtcG1ldGE+DQogICAgICAgICAgICAgICAgICAgICAgICAgICAgICAgICAgICAgICAgICAgICAgICAgICAgICAgICAgICAgICAgICAgICAgICAgICAgICAgICAgICAgICAgICAgICAgICAgICAgCiAgICAgICAgICAgICAgICAgICAgICAgICAgICAgICAgICAgICAgICAgICAgICAgICAgICAgICAgICAgICAgICAgICAgICAgICAgICAgICAgICAgICAgICAgICAgICAgICAgICAKICAgICAgICAgICAgICAgICAgICAgICAgICAgICAgICAgICAgICAgICAgICAgICAgICAgICAgICAgICAgICAgICAgICAgICAgICAgICAgICAgICAgICAgICAgICAgICAgICAgIAogICAgICAgICAgICAgICAgICAgICAgICAgICAgICAgICAgICAgICAgICAgICAgICAgICAgICAgICAgICAgICAgICAgICAgICAgICAgICAgICAgICAgICAgICAgICAgICAgICAgCiAgICAgICAgICAgICAgICAgICAgICAgICAgICAgICAgICAgICAgICAgICAgICAgICAgICAgICAgICAgICAgICAgICAgICAgICAgICAgICAgICAgICAgICAgICAgICAgICAgICAKICAgICAgICAgICAgICAgICAgICAgICAgICAgICAgICAgICAgICAgICAgICAgICAgICAgICAgICAgICAgICAgICAgICAgICAgICAgICAgICAgICAgICAgICAgICAgICAgICAgIAogICAgICAgICAgICAgICAgICAgICAgICAgICAgICAgICAgICAgICAgICAgICAgICAgICAgICAgICAgICAgICAgICAgICAgICAgICAgICAgICAgICAgICAgICAgICAgICAgICAgCiAgICAgICAgICAgICAgICAgICAgICAgICAgICAgICAgICAgICAgICAgICAgICAgICAgICAgICAgICAgICAgICAgICAgICAgICAgICAgICAgICAgICAgICAgICAgICAgICAgICAKICAgICAgICAgICAgICAgICAgICAgICAgICAgICAgICAgICAgICAgICAgICAgICAgICAgICAgICAgICAgICAgICAgICAgICAgICAgICAgICAgICAgICAgICAgICAgICAgICAgIAogICAgICAgICAgICAgICAgICAgICAgICAgICAgICAgICAgICAgICAgICAgICAgICAgICAgICAgICAgICAgICAgICAgICAgICAgICAgICAgICAgICAgICAgICAgICAgICAgICAgCiAgICAgICAgICAgICAgICAgICAgICAgICAgICAgICAgICAgICAgICAgICAgICAgICAgICAgICAgICAgICAgICAgICAgICAgICAgICAgICAgICAgICAgICAgICAgICAgICAgICAKICAgICAgICAgICAgICAgICAgICAgICAgICAgICAgICAgICAgICAgICAgICAgICAgICAgICAgICAgICAgICAgICAgICAgICAgICAgICAgICAgICAgICAgICAgICAgICAgICAgIAogICAgICAgICAgICAgICAgICAgICAgICAgICAgICAgICAgICAgICAgICAgICAgICAgICAgICAgICAgICAgICAgICAgICAgICAgICAgICAgICAgICAgICAgICAgICAgICAgICAgCiAgICAgICAgICAgICAgICAgICAgICAgICAgICAgICAgICAgICAgICAgICAgICAgICAgICAgICAgICAgICAgICAgICAgICAgICAgICAgICAgICAgICAgICAgICAgICAgICAgICAKICAgICAgICAgICAgICAgICAgICAgICAgICAgICAgICAgICAgICAgICAgICAgICAgICAgICAgICAgICAgICAgICAgICAgICAgICAgICAgICAgICAgICAgICAgICAgICAgICAgIAogICAgICAgICAgICAgICAgICAgICAgICAgICAgICAgICAgICAgICAgICAgICAgICAgICAgICAgICAgICAgICAgICAgICAgICAgICAgICAgICAgICAgICAgICAgICAgICAgICAgCiAgICAgICAgICAgICAgICAgICAgICAgICAgICAgICAgICAgICAgICAgICAgICAgICAgICAgICAgICAgICAgICAgICAgICAgICAgICAgICAgICAgICAgICAgICAgICAgICAgICAKICAgICAgICAgICAgICAgICAgICAgICAgICAgICAgICAgICAgICAgICAgICAgICAgICAgICAgICAgICAgICAgICAgICAgICAgICAgICAgICAgICAgICAgICAgICAgICAgICAgIAogICAgICAgICAgICAgICAgICAgICAgICAgICAgICAgICAgICAgICAgICAgICAgICAgICAgICAgICAgICAgICAgICAgICAgICAgICAgICAgICAgICAgICAgICAgICAgICAgICAgCiAgICAgICAgICAgICAgICAgICAgICAgICAgICAgICAgICAgICAgICAgICAgICAgICAgICAgICAgICAgICAgICAgICAgICAgICAgICAgICAgICAgICAgICAgICAgICAgICAgICAKICAgICAgICAgICAgICAgICAgICAgICAgICAgIDw/eHBhY2tldCBlbmQ9J3cnPz7/2wBDAAcFBQYFBAcGBQYIBwcIChELCgkJChUPEAwRGBUaGRgVGBcbHichGx0lHRcYIi4iJSgpKywrGiAvMy8qMicqKyr/2wBDAQcICAoJChQLCxQqHBgcKioqKioqKioqKioqKioqKioqKioqKioqKioqKioqKioqKioqKioqKioqKioqKioqKir/wAARCAFvAVQDASIAAhEBAxEB/8QAHwAAAQUBAQEBAQEAAAAAAAAAAAECAwQFBgcICQoL/8QAtRAAAgEDAwIEAwUFBAQAAAF9AQIDAAQRBRIhMUEGE1FhByJxFDKBkaEII0KxwRVS0fAkM2JyggkKFhcYGRolJicoKSo0NTY3ODk6Q0RFRkdISUpTVFVWV1hZWmNkZWZnaGlqc3R1dnd4eXqDhIWGh4iJipKTlJWWl5iZmqKjpKWmp6ipqrKztLW2t7i5usLDxMXGx8jJytLT1NXW19jZ2uHi4+Tl5ufo6erx8vP09fb3+Pn6/8QAHwEAAwEBAQEBAQEBAQAAAAAAAAECAwQFBgcICQoL/8QAtREAAgECBAQDBAcFBAQAAQJ3AAECAxEEBSExBhJBUQdhcRMiMoEIFEKRobHBCSMzUvAVYnLRChYkNOEl8RcYGRomJygpKjU2Nzg5OkNERUZHSElKU1RVVldYWVpjZGVmZ2hpanN0dXZ3eHl6goOEhYaHiImKkpOUlZaXmJmaoqOkpaanqKmqsrO0tba3uLm6wsPExcbHyMnK0tPU1dbX2Nna4uPk5ebn6Onq8vP09fb3+Pn6/9oADAMBAAIRAxEAPwD6RooooAKKKKACiiigAooooAKKKKACiiigAooooAKKKKACiiigAooooAKKKKACiiigAooooAKKKKACiiigAooooAKKKKACiiigAooooAKKKKACiiigAooooAKKKKACiiigAooooAKKKKACiiigAorkte17UNC+Inh6CaVToesJLZMpQfursDfGd3X51DrjpkCneBtdv/Ex1rVZpVbSm1GS30tFQAGGL920m7qd0gc89ABQB1dFFFABRRRQAUUUUAFFFFABRRRQAUUUUAFFFFABRRRQAUUUUAFFFFABRRRQAUUUUAFFFFABRRRQAUUUUAFFFFABRRRQAUUUUAFFFFABRRRQAVWttQtry6vLa3lV5bKURToDyjFFcD/vl1NWa8v+GnhzXNI+Ivji91PVIbuK7vUEsSqw2yGNJUKk/wAISbZjvtFAFv4y3Nvc+FY9CtZJv+Eivp4pNGSBHLrOkqYk3AYULnJJI4zXZ+HdEtvDXhrT9FsR+4sbdIFOOW2jBY+5OSfc1pUUAFFFFABRRRQAUUUUAFFFFABRRRQAUUUUAFFFFABRRRQAUUUUAFFFFABRRRQAUUUUAFFFFABRRRQAUUUUAFFFFABRRRQAUUUUAFFFFABRRRQAVzfhr/kafGH/AGE4f/SK3rpK5vw1/wAjT4w/7CcP/pFb0AdJRRRQAUUUUAFFFFABRRRQAUUUUAFFFFABRRRQAUUUUAFFFFABRRRQAUUUUAFFFFABRRRQAUUUUAFFFFABRRRQAUUUUAFFFFABRRRQAUUUUAFFFFABXN+Gv+Rp8Yf9hOH/ANIreukrm/DX/I0+MP8AsJw/+kVvQB0lFFFABRRRQAUUUUAFFFFABRRRQAUUUUAFFFFABRRRQAUUUUAFFFFABRRRQAUUUUAFFFFABRRRQAUUUUAFFFFABRRRQAUUUUAFFFFABRRRQAUUUUAFc34a/wCRp8Yf9hOH/wBIreukrm/DX/I0+MP+wnD/AOkVvQB0lFFFABRRRQAUUUUAFFFFABRRRQAUUUUAFFFFABRRRQAUUUUAFFFFABRRRQAUUUUAFFFFABRRRQAUUUUAFFFFABRRRQAUUUUAFFFFABRRRQAUUUUAFc34a/5Gnxh/2E4f/SK3rpK5vw1/yNPjD/sJw/8ApFb0AdJRRRQAUUUUAFFFFABRRRQAUUUUAFFFFAHOeJfG+neGr6205ra+1PVLtTJDp2mwebMyA4LkEgKoPGWIFR+HPHVl4g1SbSZ7DUNG1aGITtYanCI5HjzjzEIJV1zxkHg9cVg+HcRfH/xmt9t+0TadYPYbvvG3AcSbfbzMZx3xXV3mo6BD4z02wu1gbXp7eV7Q/Zy8iRDG/wCcA7FPHUgEjHJoA0NT1K00bSrrUtSmWC0tYmlmlboqgZJrPvfFOn6P4THiDxCx0m2EAlkjuSN8ZIzswCcv22jPPArnvixLu0rw7p8hP2XUvEdha3I/vR+Zv2n2LIo/GtnxnoWl6rolxe6lYw3Vxp9rcPavKu7yWMfLAHjPAweo7UAaPh/W7bxJ4dsNasUljtr+BZ4lmADhWGQCASM/QmmeI/EmleE9CuNX127S2tIFJJY8ueyqO7HsBWN8Kf8Akkfhf/sGQf8AoAp/xC0PTNR8KalqN/Yw3F3p+mXhtJZV3GAvF8xXPQ/KOev5mgC7eeK7Sz8Gw+JnguG0+SGK5kwo3wwvgl2Geiq25sZ4BxmtxHWRFeNgysMqynII9a5/wrbQ3nwz0W1ulDwT6RBHIp6FTCoI/I1l/B2+l1D4QeHZriUzMtsYRIf4ljdkU8/7KigDtaKKKACiiigAooooAKKKKACiiigAooooAKKKKACiiigAooooAKKKKACiiigArm/DX/I0+MP+wnD/AOkVvXSVzfhr/kafGH/YTh/9IregDpKKKKACiiigAooooAKKKKACiiigAooooA5/xL4K0bxVLbXGox3EF9Z5+zX1lcPb3EIPUCRCDg+hyKZ4b8DaP4YvLi/tftV5qVyoSbUNQuWuLh0HRd7HhfYYH5Cqfjz4iaZ4H08+aVudSkXMFmrcn/ab+6v8+1eCTfFTxffXjyy61PDvYkJAdiLz0ArnrYiNLzOnB0YYnERw7mo83V7X/wCCfQ/jzw3J4p8IXNhZukd/GyXNjK/RLiJg8ZPsSMH2JrTtw+s+HUXVLSSzkvLbbcWzMC0RZcMmRwcZIyK5X4Q6vqGteCpLrVruW7nF46CSU5O0KuB+pruq0pzVSCmuo8ZhZYTETw8ndxdjltW8GRyfDKTwjokr20a2i2ttK0zK0QUjaxZeTjGccZxjIzkb13psF9os+l3Jd7ee3a3kO75ijLtPPrg9at0VocpzniCxv9N+H8uk+E7cy3a2qWNmHcYjBAjEjE9kX5j3O3gE8Vo+HdEtvDXhrTtFssmCwt0gRiMFtoxuPuTyfc1pUUAFFFFABRRRQAUUUUAFFFFABRRRQAUUUUAFFFFABRRRQAUUUUAFFFFABRRRQAVzfhr/AJGnxh/2E4f/AEit66Sub8Nf8jT4w/7CcP8A6RW9AHSUUUUAFFFFABRRRQAUUUUAFFFBOOtABXm3xI+LVp4UWXTNGKXesEYbvHbe7erf7P5+h5/4mfGX7M0ui+D51aUZSfUEOQnqsZ7n/a7dvUeR+G/DOr+MtaFlpUTTTMd80zk7Yxnlnb/JNclWvryw3MJ1PsxK6R6v4r1/CCfUtSvJMn+JnPr7AfkB7Vs+KPB8vg3VLewvZkmuntlml2fdRmLfKD3xjrX0T4F8AaZ4H03y7UC4vpVH2i8dcM/sP7q+355ryT44/wDJQU/68o//AEJq4sVScKPM9z63g7DU55mnUV7JteT7+p3/AMDf+Sfy/wDX9J/6Clej15x8Df8Akn8v/X9J/wCgpXo9d+F/gR9Diz3/AJGdf/EwooorpPGCiiigAooooAKKKKACiiigAooooAKKKKACiiigAooooAKKKKACiiigAooooAKKKKACub8Nf8jT4w/7CcP/AKRW9dJXN+Gv+Rp8Yf8AYTh/9IregDpKKKKACiiigAooooAKKKoa3rmn+HdJl1LV7lbe2iHLN1Y9lA7k+lF7bgWrq6gsbSW6vJkgghUvJJI21VA7k189fEz4vTeIDJpHhqSS30v7ss4+V7n29VT26nv6Vh/EL4m6j43uDbxBrPSY2zHbA8uezOe59ug/Wrnw4+FF74umj1HVQ9powOd/R7j2T29W/LPbhnVlUfJA5pTc3yxMbwJ8P9T8calstgbewiYfaLxl+VPZf7ze354r6b8M+F9L8JaQun6NbiOMcySNy8rf3mPc/wAu1X9O02z0jT4rHTbaO2toV2pFGMAD/H371ZropUVTXmawpqIV88/HH/koKf8AXlH/AOhNX0NXzz8cf+Sgp/15R/8AoTVy5h/A+Z9pwf8A8jP/ALdf6Hf/AAN/5J/L/wBf0n/oKV6PXnHwN/5J/L/1/Sf+gpXo9b4X+BH0PIz3/kZ1/wDEwooorpPGCiiigAooooAKKKKACiiigAooooAKKKKACiiigAooooAKKKKACiiigAooooAKKKKACub8Nf8AI0+MP+wnD/6RW9dJXN+Gv+Rp8Yf9hOH/ANIregDpKKKKACiiigAoorifiB8TNN8EWpgXbd6rIuYrUHhfRnPYe3U/qJlJRV2JtJXZr+L/ABnpXgzSTearLmRgRBbIf3kzegHp6noK+YfGHjXVvGmqG61SXbChPkWqH93CPYdz6nqf0qlquq6v4u143V9JLe31ywVEVST7IqjoPQCvcfhn8H4dFWLWPFMST6jw8NqcMlv6E9mf9B7nmuJynXdo7HM3Kq7LY574afBp74Q614uiaO24eCwYYaX0Mnov+z1Pfjr7xHGkUaxxIqIgCqqjAUDoAKdRXXCnGCsjojFRVkFFFFaFBXzz8cf+Sgp/15R/+hNX0NXzz8cf+Sgp/wBeUf8A6E1efmH8D5n2HB//ACM/+3X+h3/wN/5J/L/1/Sf+gpXo9ecfA3/kn8v/AF/Sf+gpXo9b4X+BH0PIz3/kZ1/8TCiiiuk8YKKKKACiiigAooooAKKKKACiiigAooooAKKKKACiiigAooooAKKKKACiiigAooooAK5vw1/yNPjD/sJw/wDpFb10lc34a/5Gnxh/2E4f/SK3oA6SiiigAopGZUQs5CqoySTgAV4b8TPjL5qy6N4OuCEOVn1BD19VjPp/tfl61E6kYK7JlJRV2dD8S/i7B4b8zSfDrx3Oq/dlm+8lt/8AFP7dB39K8GsrHWPF3iAQWyzahqN25ZmY5LHuzE9B7npVrwp4R1XxnrIstLiJ53T3D52Qr6sf6dTX054M8C6T4J037PpqeZcSAefdyD55T/QegH6nmuNRnXd3sc6Uqru9jI+HXwwsfBVuLu62XmsSLh7jHyxA/wAKZ6e56n2HFd5RRXbGKirI6UklZBRRRVDCiiigAr55+OP/ACUFP+vKP/0Jq+hq+efjj/yUFP8Aryj/APQmrz8w/gfM+w4P/wCRn/26/wBDv/gb/wAk/l/6/pP/AEFK9Hrzj4G/8k/l/wCv6T/0FK9HrfC/wI+h5Ge/8jOv/iYUUUV0njBRRRQAUUUUAFFFFABRRRQAUUUUAFFFFABRRRQAUUUUAFFFFABRRRQAUUUUAFFFFABXN+Gv+Rp8Yf8AYTh/9Ireukrm/DX/ACNPjD/sJw/+kVvQB0lQXt9babYy3l/OlvbQruklkOFUVT8QeItM8MaTJqOs3KwQJ0HVpG7Ko7k18yePfiNqfje+KuWtdMjbMFmrcf7z/wB5v0Hb3xq1VTXmZzmom38Sfi3deKjLpeiF7XSM4duklz/vei/7P5+gxvAPw31PxveCRQ1rpcbYmvGXr6qg/ib9B39Dt/DX4R3Piny9V10Pa6RkFE6SXX09F/2u/b1H0VZWVtp1lFZ2ECW9vCoSOKNcKornhSlVfPMyjBzfNIqaB4f03wzpMenaPbLBAg5xyznuzHuT61pUUV2pJaI6dgooopgFFFFABRRRQAV88/HH/koKf9eUf/oTV9DV88/HH/koKf8AXlH/AOhNXn5h/A+Z9hwf/wAjP/t1/od/8Df+Sfy/9f0n/oKV6PXnHwN/5J/L/wBf0n/oKV6PW+F/gR9DyM9/5Gdf/EwooorpPGCiiigAooooAKKKKACiiigAooooAKKKKACiiigAooooAKKKKACiiigAooooAKKKKACvNdQ8daV4I1bxfcaixluZdSi+z2kZ+eU/Yrf8l9Sf1PFejXAla2lW2dY5ihEbuu5VbHBIyMjPbNfIPjKDWovGWox+JmaTVPN/fP2fgbSP9nbjHtisK1R046ESctFFXbDxV4s1XxnrRvdVlLHO2G3TOyFf7qj+vU16j8Mvg1vEWteMbfjhoNOcdfRpB/7L+fpXlGi3l1oeoRahYuiXURzG7RLJsPqAwIz79q63/hbHjb/oNt/4DQ//ABFeVHFUlK87s+swvBWZVqaq1HGLfRt3XrZM+mlUIoVAFVRgADAApa+ZP+FseNv+g23/AIDQ/wDxFH/C2PG3/Qbb/wABof8A4iun+0qXZ/h/md3+pWYfzw++X/yJ9N0V8yf8LY8bf9Btv/AaH/4ij/hbHjb/AKDbf+A0P/xFH9pUuz/D/MP9Ssw/nh98v/kT6bor5k/4Wx42/wCg23/gND/8RR/wtjxt/wBBtv8AwGh/+Io/tKl2f4f5h/qVmH88Pvl/8ifTdFfMn/C2PG3/AEG2/wDAaH/4ij/hbHjb/oNt/wCA0P8A8RR/aVLs/wAP8w/1KzD+eH3y/wDkT6bor5k/4Wx42/6Dbf8AgND/APEUf8LY8bf9Btv/AAGh/wDiKP7Spdn+H+Yf6lZh/PD75f8AyJ9N188/HH/koKf9eUf/AKE1ZX/C2PG3/Qbb/wABof8A4iue1vXtS8R6gL3Wbk3NwEEYcoq/KM4GFAHc1y4rGU61Plime9kPDeLy3Ge3rSi1ZrRu+vqke6/A3/kn8v8A1/Sf+gpXo9eQfCLxAdL8FyQf2Pqt5m7dvMtLYSJ91eM5HPFd3/wmXr4c8Qf+AP8A9lXqYX+BH0Pg89/5Gdf/ABM6Siub/wCEzXv4e8Qf+C8/40f8JpH38P8AiD/wWvXSeMdJRXN/8JpF30HxB/4LJKP+E1g76H4g/wDBVL/hQB0lFc3/AMJtbd9F8Qf+Cmb/AAo/4Te176N4g/8ABPP/APE0AdJRXN/8JvZ99I8Qf+Ca4/8AiKP+E4se+leIP/BJdf8AxFAHSUVzf/Cc2HfTPEH/AIIrv/43R/wnWnd9N8Qf+CG8/wDjVAHSUVwnin4rab4b8N3Orf2Rrc/2cpmObSrm2UhnVT+8eMKMBsjJGSAO9angvx7pnjnS0vdLtNTtkcZAvLJ4x+EmCjfgxoA6eiiigAooooAKKKKACiiigAooooAKpW+s6bd6td6XbX1vLf2QU3NskgMkIYZUsvUZHNP1TUbbR9Iu9Sv38u2s4Xnmb0RQSf0FfPHhjxbomj6x4Z8XtrthNrGu388eu2kVwrPHFdMDFkdQIikYPpk0AfSNUxq2nmK8l+3W4jsXMd1IZAFgYKGIY9AQGBOemag8S6qdC8Katq4TedPsproKf4tiFsfpXluoaYF+Gfw70m7PnQ65rNnNqrS8i6eRHuJFfPLbpAOvYY9KAPVNH8QaP4hgkm0HVbLUoo22u9pcLKEPodpOKyPE3g3wjqc0mteKLSHMMQEl1PdPEqIPUhgAOetYl5bW+j/HnQm0yKK2/tTR7qK7SJNokETRtGxA4yNxAPXGRUnxLiGo694J0e6j83T7zWt9zGwysvlQvIiMOhUsAcHrtqZRjJWkrmtKtUoy56cnF907DNM8C/DHW7GS90aCy1C1jJDzWuoSSqpAyQSrnBx2q3afDDwDf2cN3ZaVFPbzoJIpY7uVldSMggh+QRVNYIdH/aCgj06FLePVdAke6jiUKsjxTLscgdWAdlz6GrXw9nNlr3i/wwGzDpGpiW2UDiKG5jEwQewZnx6Dis/YUf5V9yO3+1sw/wCf8/8AwKX+ZP8A8Kl8E/8AQEH/AIFTf/F0f8Kl8E/9AQf+BU3/AMXXZUUewo/yr7kH9rZh/wA/5/8AgUv8zjf+FS+Cf+gIP/Aqb/4uj/hUvgn/AKAg/wDAqb/4uuyoo9hR/lX3IP7WzD/n/P8A8Cl/mcb/AMKl8E/9AQf+BU3/AMXR/wAKl8E/9AQf+BU3/wAXXZUUewo/yr7kH9rZh/z/AJ/+BS/zON/4VL4J/wCgIP8AwKm/+Lo/4VL4J/6Ag/8AAqb/AOLrsqKPYUf5V9yD+1sw/wCf8/8AwKX+Z5XqGjfBrSdUk07VLrSrO8iYLJDPqboyEgEZzJxwQea27L4afD7UrOO707Tre7tpRmOaC+ldHHswfBrj9OnvYfib48+x+Bv+EmX+0IC0vnWyeT/o6fLiVgTnrxW98GDFHa+JoXtv7KvTrElxcaJt2/2cHVdijgAhgu7cvynPHSj2FH+Vfcg/tbMP+f8AP/wKX+ZpXnwz+H+n2xuL7S4reEMqb5LuYDczBVH3+pJAA7kikvvhr8PdLtTdajpsNrArKpklvJVXLMFUcv3JA/Gl8QTNq3xe8NaC5BtbG0n1qaM/xupWGIn/AHWkZvqAe1c98bfDnn6TDrl3qd5Kttf2SWtgHCwQsZ0VnKgZdiCRlicAnAo9hR/lX3IP7WzD/n/P/wACl/mem6To2n6FZm00i0jtYC5cxx9Nxxk/oKr6j4o0DSL+Gx1XW9OsrufHlQXF0kbvnphSc1q15d4O0PTvE9n4/m123t7mW9129spZp0DFIYsRxrk9AoGRjoTmtUklZHnznKcnKbu31Z6VJfWsN9BZy3EaXNwrNDEzYaQLjdtHfGRn61PXi66neN+zV4e8VyF21PQo7e9ikYjcyxyeW4J7hoiwPrmvaAQwBByDyCO9MkKKKKACiiigAooooAKKKKAI7i2gu4TDdQxzxEglJEDKSCCDg+hAP1FU9d019X0G8sIb640+WeIrHd20hSSFuoYEehxx3HHetCs3xDoqeIvD93pE15dWcV3H5ck1m6rIEP3gCwIGRkHjOCcYoA81+GHinWPH/iF59U1aOOHw7F9la2spjt1KYkqbpuBmIhflHTOT259crnE8C6Rba5o+q6YJtOm0m1NlElqyqk1uRxFICDuUEbh0IPOa6OgAooooAKKKKACiiigAooooA5zx14Ym8Y+GW0NLwWltczxG8bYWaSBXDPGvIwWwBn0zT/E/g7S/EvhPUdDktoIEvLdoVkSFcxNj5WH+6QD+FdBRQBhroM934Cbw/rd2t3NNpxsrm5VCvm5j2M+MnBOc9a47QdEl8YfCjTtDuriTTNe8NTxW/n7d7W13a4CSYON6smG91kr02kCqGJCgFuSQOtAHI6F4T1ZfFreJ/Fup2t9qMdobK1hsbZoYIIy25mwzsS7ELk54xgVUfw7rXi7wVpz6zeCw8QafqD3lneC2wFKSuIi0Wc7WiKhlJB+Y55Fd1RQByOgeGdRs/Ed54p8XanaXepvaC0jFpC0Nva24bewAZmJLNgliewHaqnwztXuotc8VSoyf8JHqBurYOMH7KiiOEkf7Srv+jCu4ZQylWAIIwQR1pQAoAAwBwAO1ABRRRQAUUUUAFFFFABRRRQB5/wD8IZ4t0zxZr2q+GvEGl20Gs3CTvDd6c8zIVjVMBhIvp6Vr+DvBsvhu71bVNU1RtW1rWZY5L278kQqRGu2NEQE7VUEjqSc11NFAHB+MoTovxB8L+LWDfY0MmlXzj/lkk5XynPookUAn/bHpW1448Lv4v8NjS47pbVvtUFx5jJu/1cqvjGR124roXRZFKuoZT1BGQaWgDD16XWk1XQ00Vl8iS8K36tDuHk7GJO7+DkADrkkD1Nc7qXgbxDDfa2nhPxBa6bp2vyGa7juLNppLaVk2ySQMHUAsADhgQDyK76igDzbxxoFqvgbQ/htpCOU1GSC0HPzR2kDI80rH/dULnu0g9a9JpNi7w+0bgMBscgen6UtABRRRQAUUUUAFFFFABRRRQAUUUUAFFFFABRRRQAUUUUAFFFFABRRRQAUUUUAFFFFABRRRQAUUUUAFFFFABRRRQAUUUUAFFFFABRRRQAUUUUAFFFFABRRRQAUUUUAFFFFABRRRQAUUUUAFFFFABRRRQAUUUUAFFFFABRRRQAUUUUAFFFFABRRRQAUUUUAFFFFABRRRQAUUUUAFFFFABRRRQAUUUUAFFFFABRRRQAUUUUAFFFFABRRRQAUUUUAFFFFABRRRQAUUUUAFFFFABRRRQAUUUUAFFFFABRRRQAVH9pgNwYBNH5w6x7xu/LrXHfFnXL/Q/h/O2jTm1vr24gsYbkf8sDLIFL+xCk4PY4NVLn4LeD30E2djYfYtQVMxaxGx+1pMORKZM7i2eSM4PSgD0CkR1kQOjBlYZBByDXG+NtF1698D/YbbxC1pHDZSf2jdxQAXF1tj6Ic4j3EMScEjOB61N8Kf+SR+F/8AsGQf+gCgDraK5vXr7xjb6iE8OaLpV7Z+WCZbvUHhfdzkbRG3HTnNW/Dt14juY5z4o0ywsHUr5Isrtpw45znKLjt60Aa8kiQxl5XVEHVmOAKVmVFLOQqqMkk4AFea/FBLfxX4g0LwDPcCK1vfM1HUzv2lbeIYQdf4pWX/AL4qlYa7NrP7Onia11GQSano2l3+l3xBzukhhdQ+e+5drZ9zQB6nFdW9wSIJ45SOSEcHH5VLXzJqEHg6z+GVlcaP4O1jSNeNtbeTrr6fPawwTYUmcznjZnJyM5B4HNfSto5ksoHMyTlo1Jlj+7Jx94Y7HrQBNRRWfrWuWWgWkd3qjtFavMsLz7cpDu4DOf4VzgbugLDOBkgA0KhW8tnl8pLiJpM42BwTn6VKrBlDKQQRkEHrXzh4ftfBDWniCfxL4E1fW7xdZvi13Z6VNMpUSthRIuFBH1GKAPpCo0uYJJmhjmjaVfvIrgsPqK8Rt9X1R/gp4K0e31mQza/qkemTXsE++W3t2eRjH5n/AD0VFWP8D6Zrs9Q+Dnhc6dEvhq0Tw9qlsyva6pZL++jZT/EScuCMghic5oA7+ikUEKAxyccnHWloAKKKKACiiigAooooAKKKKACiiigAooooAKKKKACiiigAooooAKKKKACiiigAooooAKKKKAMPxj4Yt/GPhK90S6laAXCgxzoMtDIrBkcfRgDjuMjvXK3MHxU1LRX0K4j0G0kmjME2uQ3MjNsIwXSDYMPjn72AT7V6K7rGjPIwVVGWZjgAetcfF8WvAs+orZReI7UyPJ5ayFXELN6CUjYT/wACoA2m0VoPBbaJbTy3DpYG1Sa5kLPIfL2hnY8knqTUHgfRrrw74D0XR78xm5sbKOCUxtldyrg4PGRU/iDxXofhaGKTX9ShshOxWJGyzyEddqAFmx3wOKsaNrml+ItNW/0O+gvrViVEsL7gGHUH0I9DzQBla98PfCfijURf+INCtb+6EYjEsyknaMkDr7mrXh3whoHhKOdPDelW+nLcFTKIQRvIzjP0ya2qKAPP7f4a2mt+MNf13x1pthqbXUyQ6bDKvnLb20a4HUfKzMzMQM9uazrz4Y3emXviu18IQWNnoniLQZLU2gPliG92MiOFAwEKtz3zzXoGveINK8L6PLquvXsdlZRFVeVwTgsQAMAEnk9qvQzR3EEc0DrJFIodHU5DKRkEUAeYNo/xJvfA6eEzp3h2xt208afLfPeyzsI/LEbMI/LALYzgE4zXomh6VHoXh7TtIgkaSKwtYrZHf7zBECgn34q9RQBzf/CuPBH/AEJvh/8A8FcH/wATWdrXwk8GavaR2qeHNIsYvOV52tdOhjkkRedgcKCgJxkjnGRxnI7WszXvEekeGNP+3a/qENjblgivK3Lt/dUDlj7AE0AXbS0t9PsobOxgjt7aBBHFFEoVUUDAAA6ACvNPD2kfETwnb6lYaXpGg3UNzqdzdxXFzqMiELLIWG5FiPQHsa7Lw7468N+K7ia30HVYrm4gG6S3ZGilVf72xwGxz1xit+gDzOL4V3j/AA/k0+61WJPELau2ux30EX7qC9L7htU87Oq/Qk47VLqVh8SvFOmf2HqKaRoNvNtW81TT7ySWZkB+YQoUGwnplicAmvR6KAGxRiGFI0LFUUKCzFjgepPJ+tOoooAKKKKACiiigAooooAKKKKACiiigAooooAKKKKACiiigAooooAKKKKACiiigAooooAKKKKAOA+Nc0sfwyuIUdo7e7u7a1u5FbaUgkmVX59CDtPs1dTqOg6JceE59EvrS3j0b7MYXgwEjjiA7dNuBzntjNT65otj4j0K80jV4RPZ3kRilQnGQe4PYg4IPYgVxM3w01290r+w9R8f6ncaCyiKS2+yxLcSxf8APNrgDcQRwTjJGR3oA074+DvCdnZ+Lrm4UxWenrYWVwJ2nMkRIKpGMne7YHIyT3OKi+G2k6lAuu69rFmdNm8QX5vE04/etowgRd4HAkYLub3PrmqfiX4YXureItH1PQfEraHFotoLawtF06K5jg7F1EhIDbQq5xkBRzXT+GNJ1zSbadPEXiWTX5ZHBjleyitvKGORiPg+uTQByfjzxN/ZHiJbb/hYH/CPZgVvsf8AYv2rOSfn34PXHT2rV+Het/21b37f8Jd/wkvlMg3/ANm/Y/IyDxjA3Zx+GK7OigDyj4j65o998SNB8Oa7Kw0rT4n1O/RYZJRI5Vo4IyEBI6u/PoPatH4La9Hf+ErnQTcNPN4duWsVkkUo8tv1gkKsAQCmBz/dNdN4f8Kpoeu6/q8t215ea1dLK7tGF8qNFCxxDk5CjPPfPSmx+E0t/iJP4qtbxojd2C2d3aeXlZijZSXdnhgCV78UAWdT8W6Jo94bTUb3yZwoYp5TtwenIBFUn+IXhry28vU1L4O3dBLjPv8ALXTU2WPzYXjLModSu5Gwwz3B7GgDnPA/jfT/ABxor3likkM9tIYLuB1P7mUcFQ2AHHHBHbGcHiufaFNS/aL2akBIul+H1n0+JxwjyTFZJVH97CqufSu807TrPSNOhsNNt0trWBdscSDgD+p9SeTWD4q8Fp4hvrLVtP1K40XW9PDLbahbKrHY33o5EYYdCQDg9D0I5yAW9U0nw/J4q0fV9SMMWr2/mQ2EjT+W8m5fmQDI8wYydpzjk1uVx2j+A7mPxLb+IPFfiC48QajZRvHY77dLeG1DgB2WNOrkDG4k8cV2NABRRRQAUUUUAFFFFABRRRQAUUUUAFFFFABRRRQAUUUUAFFFFABRRRQAUUUUAFFFFABRRRQAUUUUAFFFFABRRRQAUUUUAFFFFABRRRQAUUUUAFFFFABRRRQAUUUUAFFFFABRRRQAUUUUAFFFFABRRRQAUUUUAFFFFABRRRQAUUUUAFFFFABRRRQAUUUUAFFFFABRRRQAUUUUAFFFFABRRRQAUUUUAFFFFABRRRQAUUUUAFFFFABRRRQAUUUUAFFFFABRRRQAUUUUAFFFFABRRRQAUUUUAFFFFABRRRQAUUUUAf/Z)\n",
        "\n",
        "Now , to evaluate the integral $\\int_{C1} \\left(\\bar{z}\\right) d z $ over the contour given by the curve C1. We can write this as,\n",
        "\n",
        "$$A [0,0], B[1,0], C[1,1]$$\n",
        "\n",
        "\n",
        "$$\\int_{C1} \\left(\\bar{z}\\right) d z=\\int_{AB} \\left(\\bar{z}\\right) d z+\\int_{BC} \\left(\\bar{z}\\right) d z$$\n",
        "\n",
        "If $$z=x+iy$$ then $$dz =dx+i dy$$hence $$\\bar{z}dz =xdx+ydy+ixdy-iydx$$ \n",
        "\n",
        "For $AB$, we can take $y = 0$, hence $dy = 0$ and $ x\\epsilon [0,1] $. For $BC, x=1, dx=0$ and $y\\epsilon [0,1]$. For $AC, y=x,$ and $dy=dx$.Then we can subtitute in the above equation to find the contour integrals over $C1$ and $C2$."
      ]
    },
    {
      "cell_type": "markdown",
      "metadata": {
        "id": "9U8p6CWl0Dft"
      },
      "source": [
        "##Task 2:\n",
        "\n",
        "a. Evaluate $\\int_{C1} \\left(\\bar{z}\\right) d z $ by finding the integral over $AB$ and $BC$.\n",
        "\n",
        "b. Also, evaluate $\\int_{C2} \\left(\\bar{z}\\right) d z $ by finding the integral over $AC$.\n",
        "\n",
        "c. Hence identify, if contour integrals are path dependant or not?\n",
        "\n",
        "\n",
        "[*Use your knowledge in theory to solve for the integrals in C1 and C2 manually, an then integrate using Python.*]\n"
      ]
    },
    {
      "cell_type": "code",
      "execution_count": 19,
      "metadata": {
        "id": "fM52vDbNykPV",
        "colab": {
          "base_uri": "https://localhost:8080/"
        },
        "outputId": "d66f1e3d-eec3-43eb-877e-3852d50552d0"
      },
      "outputs": [
        {
          "output_type": "stream",
          "name": "stdout",
          "text": [
            "1\n"
          ]
        }
      ],
      "source": [
        "# YOUR CODE HERE\n",
        "#task_2(a)\n",
        "x= sp.symbols('x', real = True)\n",
        "y= sp.symbols('y')\n",
        "\n",
        "z1= x - 0j\n",
        "intZ_1 = sp.integrate(z1,(x, 0, 1))\n",
        "\n",
        "z2= y + 0j\n",
        "intZ_2= sp.integrate(z2,(y, 0, 1))\n",
        "c1= intZ_1 + intZ_2\n",
        "\n",
        "print(c1)"
      ]
    },
    {
      "cell_type": "code",
      "source": [
        "#task_2(b)\n",
        "x = sp.symbols('x', real= True)\n",
        "z1= 2*x \n",
        "c2 = sp.integrate(z1,(x,0,1))\n",
        "print(c2)"
      ],
      "metadata": {
        "colab": {
          "base_uri": "https://localhost:8080/"
        },
        "id": "ks08g2rpzcAN",
        "outputId": "a7d7a278-0e0b-4ee0-ac2f-310fc60f7a17"
      },
      "execution_count": 17,
      "outputs": [
        {
          "output_type": "stream",
          "name": "stdout",
          "text": [
            "1\n"
          ]
        }
      ]
    },
    {
      "cell_type": "code",
      "source": [
        "#task_2(c)\n",
        "print(\"Contour Intgrals are path independent as its values are same\")"
      ],
      "metadata": {
        "id": "xcInUwkA1Kgc"
      },
      "execution_count": null,
      "outputs": []
    }
  ],
  "metadata": {
    "colab": {
      "name": "Lab_3_Complex_Integration_and_Contour_Integrals.ipynb",
      "provenance": [],
      "include_colab_link": true
    },
    "kernelspec": {
      "display_name": "Python 3 (ipykernel)",
      "language": "python",
      "name": "python3"
    },
    "language_info": {
      "codemirror_mode": {
        "name": "ipython",
        "version": 3
      },
      "file_extension": ".py",
      "mimetype": "text/x-python",
      "name": "python",
      "nbconvert_exporter": "python",
      "pygments_lexer": "ipython3",
      "version": "3.9.7"
    }
  },
  "nbformat": 4,
  "nbformat_minor": 0
}
