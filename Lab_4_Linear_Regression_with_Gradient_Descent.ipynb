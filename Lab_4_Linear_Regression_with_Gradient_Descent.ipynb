{
  "nbformat": 4,
  "nbformat_minor": 0,
  "metadata": {
    "colab": {
      "provenance": [],
      "collapsed_sections": [],
      "include_colab_link": true
    },
    "kernelspec": {
      "name": "python3",
      "display_name": "Python 3"
    }
  },
  "cells": [
    {
      "cell_type": "markdown",
      "metadata": {
        "id": "view-in-github",
        "colab_type": "text"
      },
      "source": [
        "<a href=\"https://colab.research.google.com/github/majumderarnob/BRACU_MAT215-Complex_Variables_and_Laplace_Trasformation/blob/main/Lab_4_Linear_Regression_with_Gradient_Descent.ipynb\" target=\"_parent\"><img src=\"https://colab.research.google.com/assets/colab-badge.svg\" alt=\"Open In Colab\"/></a>"
      ]
    },
    {
      "cell_type": "markdown",
      "source": [
        "\n",
        "#Linear Regression with Gradient Descent\n"
      ],
      "metadata": {
        "id": "wCROfJBvR6Ha"
      }
    },
    {
      "cell_type": "markdown",
      "source": [
        "Make sure you remove and fill in any place that says `# YOUR CODE HERE`, as well as your `NAME`, `ID`, and `LAB_SECTION` below:"
      ],
      "metadata": {
        "id": "NS83wjOHSJep"
      }
    },
    {
      "cell_type": "code",
      "source": [
        "NAME = \"ARNOB MAJUMDER\"\n",
        "ID = \"20301089\"\n",
        "LAB_SECTION = \"09\""
      ],
      "metadata": {
        "id": "BmKDqepsSQRV"
      },
      "execution_count": null,
      "outputs": []
    },
    {
      "cell_type": "markdown",
      "metadata": {
        "id": "Ib7p4kInJulS"
      },
      "source": [
        "Linear regression analysis is used to predict the value of a variable based on the value of another variable. The variable you want to predict is called the dependent variable. The variable you are using to predict the other variable's value is called the independent variable. \n",
        "\n",
        "This form of analysis estimates the coefficients of the linear equation, involving one or more independent variables that best predict the value of the dependent variable. Linear regression fits a straight line or surface that minimizes the discrepancies between predicted and actual output values. There are simple linear regression calculators that use a “least squares” method to discover the best-fit line for a set of paired data. You then estimate the value of X (dependent variable) from Y (independent variable). The data points can be in N-dimensional space. For simplicity of visualization, we'll only work with 2d data points for now. \n",
        "\n",
        "Let's create a set of 50 data points $(X_i,Y_i)$ where $X$ is a value between 0 to 200 and $Y = 2X - 3 + \\Delta$ where, $\\Delta$ is a random value between -20 to 20."
      ]
    },
    {
      "cell_type": "code",
      "metadata": {
        "id": "rrG584tI4ljk"
      },
      "source": [
        "import numpy as np\n",
        "import sympy as sp\n",
        "\n",
        "X = np.linspace(0, 200, 50)  #generating 50 X between 0 to 200 with uniform difference between each value\n",
        "delta = np.random.uniform(-20, 20, X.size) # generating randon delta\n",
        "Y = 2*X - 3 + delta #calculating Y\n"
      ],
      "execution_count": null,
      "outputs": []
    },
    {
      "cell_type": "markdown",
      "metadata": {
        "id": "rSCNvLY6LzMY"
      },
      "source": [
        "Let's plot the data!"
      ]
    },
    {
      "cell_type": "code",
      "metadata": {
        "id": "k30jMyt5LyCO",
        "outputId": "fae0a5c0-5eb6-4a91-ecf9-498737eeeadf",
        "colab": {
          "base_uri": "https://localhost:8080/",
          "height": 282
        }
      },
      "source": [
        "import matplotlib.pyplot as plt\n",
        "plt.scatter(X, Y)"
      ],
      "execution_count": null,
      "outputs": [
        {
          "output_type": "execute_result",
          "data": {
            "text/plain": [
              "<matplotlib.collections.PathCollection at 0x7f933d41b790>"
            ]
          },
          "metadata": {},
          "execution_count": 18
        },
        {
          "output_type": "display_data",
          "data": {
            "text/plain": [
              "<Figure size 432x288 with 1 Axes>"
            ],
            "image/png": "[encoded data removed]"
          },
          "metadata": {
            "needs_background": "light"
          }
        }
      ]
    },
    {
      "cell_type": "markdown",
      "metadata": {
        "id": "MkDEVJ0XMkAy"
      },
      "source": [
        "If we take a look at the plot. It becomes intuitively clear that a straight line can somewhat fit this set of data. the equation of a 2 dimensional straight line is,\n",
        "$$y = mx + b$$ \n",
        "\n",
        "We know the values of $x$ and $y$, how do we calculate $m$ and $b$?\n",
        "\n",
        "The trick is to randomly choose values for $m$ and $b$ at ftrst and calculate $y$ for them. Obviously, this will produce some error. We calculate the amount of error using an error function which is,\n",
        "\n",
        "$$e(m,b) = \\frac{1}{2N}((Y - (mX + b))^2)$$\n",
        "or,\n",
        "$$e(m,b) = \\frac{1}{2N}((Y - y)^2)$$\n",
        "\n",
        "Where, Y is the actual value and $mX+b$ or $y$ is the predicted value with the randomly generated $m$ and $b$\n",
        "\n",
        "Once we generate the initial $m$ and $b$, then we need to find the correct $m$ and $b$ using an iteative way. In order to do that, we calculate the gradient of the error function. The gradients of the error function are the partial derivative of the error function with respect to all the unknowns. There are two unknowns in our error function, Namely $m$ and $b$. So, the partial derivatives are,\n",
        "\n",
        "$$ \\frac{\\partial e(m,b)}{\\partial b} = \\frac{1}{N}(b+mx-y)$$\n",
        "$$ \\frac{\\partial e(m,b)}{\\partial m} = \\frac{1}{N}(-x*(y-mx-b))$$\n",
        "\n",
        "Once we figure out the derivatives, we calculate the gradient using all the data points,\n",
        "\n",
        "$$gradient_b = \\frac{1}{N} \\sum_{n=1}^{N} (b+mx_n-y_n)$$\n",
        "$$gradient_m = \\frac{1}{N} \\sum_{n=1}^{N} (-x_n*(y_n-mx_n-b))$$\n",
        "\n",
        "Finally, we do,\n",
        "\n",
        "$$m = m - \\alpha * gradient_m$$\n",
        "$$b = b - \\alpha * gradient_b$$\n",
        "\n",
        "Here, $\\alpha$ is a learning rate that is used to control the speed of correction. Choosing a very big $\\alpha$ in gradient descent may cause divergent and choosing a very small $\\alpha$ will make the learning process really slow.\n",
        "\n",
        "We keep on repeating this process to find the optimal $m$ and $b$ and the error gets reduced. After sufficient amount of iterations, we should find the $m$ and $b$ that optimally fits the data points"
      ]
    },
    {
      "cell_type": "markdown",
      "source": [
        "##Task 1\n",
        "\n",
        "Complete the `gradient_descent` function below. You do not need to work on the graphs below. If the function is finished properly, you shloud see logical graphs as outputs."
      ],
      "metadata": {
        "id": "MpEP1NiPN17Z"
      }
    },
    {
      "cell_type": "code",
      "metadata": {
        "id": "EYw2DgXR96aQ"
      },
      "source": [
        "def gradient_descent(b_val, m_val, x_val, y_val, learning_rate, num_iterations):\n",
        "\n",
        "\n",
        "    # Defining the error function\n",
        "    x,y,m,b,n = sp.symbols('x y m b n')\n",
        "    n_val = len(x_val)\n",
        "    \n",
        "    #YOUR CODE HERE \n",
        "    error_function = (1 / (2 * n_val)) * ((Y - (m_val * x_val + b_val)) ** 2)\n",
        "\n",
        "    #calcule the partial derivatives\n",
        "    error_function_b = sp.diff((error_function, b))\n",
        "    error_function_m = sp.diff((error_function, m))\n",
        "\n",
        "    # repeat for num_iterations\n",
        "    for j in range(num_iterations): \n",
        "        b_gradient = 0\n",
        "        m_gradient = 0\n",
        "        for i in range(n_val):\n",
        "            b_gradient = (1 / n_val) * (b_val + m_val * (x_val[i] - y_val[i]))\n",
        "            m_gradient = (1 / n_val) * (-x_val[i] * (y_val[i] - m_val * x_val[i] - b_val))\n",
        "\n",
        "        #update the value for b and m    \n",
        "        b_val = b_val-learning_rate* b_gradient\n",
        "        m_val = m_val-learning_rate* m_gradient\n",
        "        \n",
        "    return [b_val, m_val]"
      ],
      "execution_count": null,
      "outputs": []
    },
    {
      "cell_type": "markdown",
      "metadata": {
        "id": "MiUoasvKVCIU"
      },
      "source": [
        "Inntially we are randomly taking $m$ and $b$ to be 0, which will produce not so correct predictions."
      ]
    },
    {
      "cell_type": "code",
      "metadata": {
        "id": "H_0BOcLLB2I4",
        "colab": {
          "base_uri": "https://localhost:8080/",
          "height": 282
        },
        "outputId": "715f5df3-ba09-4587-affb-dedf065439cd"
      },
      "source": [
        "m_val = 0\n",
        "b_val = 0\n",
        "\n",
        "predictions = [(m_val * X[i]) + b_val for i in range(len(X))]\n",
        "plt.scatter(X, Y)\n",
        "plt.plot(X, predictions, color='r')"
      ],
      "execution_count": null,
      "outputs": [
        {
          "output_type": "execute_result",
          "data": {
            "text/plain": [
              "[<matplotlib.lines.Line2D at 0x7f933d27ad50>]"
            ]
          },
          "metadata": {},
          "execution_count": 24
        },
        {
          "output_type": "display_data",
          "data": {
            "text/plain": [
              "<Figure size 432x288 with 1 Axes>"
            ],
            "image/png": "[encoded data removed]"
          },
          "metadata": {
            "needs_background": "light"
          }
        }
      ]
    },
    {
      "cell_type": "markdown",
      "metadata": {
        "id": "YwjXtJz-VRp9"
      },
      "source": [
        "\n",
        "Here, we will use 2 iterations to see that our prediction have improved slightly."
      ]
    },
    {
      "cell_type": "code",
      "metadata": {
        "id": "cJV5CEEvGNpt",
        "colab": {
          "base_uri": "https://localhost:8080/",
          "height": 282
        },
        "outputId": "56bebcc6-d4eb-43c5-b2e4-bd6d8c15bc08"
      },
      "source": [
        "vals = gradient_descent(0, 0, X, Y, .0001, 2)\n",
        "m_val = vals[1]\n",
        "b_val = vals[0]\n",
        "predictions = [(m_val * X[i]) + b_val for i in range(len(X))]\n",
        "plt.scatter(X, Y)\n",
        "plt.plot(X, predictions, color='r')"
      ],
      "execution_count": null,
      "outputs": [
        {
          "output_type": "execute_result",
          "data": {
            "text/plain": [
              "[<matplotlib.lines.Line2D at 0x7f933d1f1cd0>]"
            ]
          },
          "metadata": {},
          "execution_count": 25
        },
        {
          "output_type": "display_data",
          "data": {
            "text/plain": [
              "<Figure size 432x288 with 1 Axes>"
            ],
            "image/png": "[encoded data removed]"
          },
          "metadata": {
            "needs_background": "light"
          }
        }
      ]
    },
    {
      "cell_type": "markdown",
      "metadata": {
        "id": "DiO1abxJVYtR"
      },
      "source": [
        "\n",
        "\n",
        "\n",
        "\n",
        "Now we will perform 10 iterations. We should see very accurate results here."
      ]
    },
    {
      "cell_type": "code",
      "metadata": {
        "id": "215rMrKIGzOX",
        "colab": {
          "base_uri": "https://localhost:8080/",
          "height": 282
        },
        "outputId": "38b591fa-39a3-4108-fc3c-1bc3d0671bef"
      },
      "source": [
        "vals = gradient_descent(0, 0, X, Y, .0001, 10)\n",
        "m_val = vals[1]\n",
        "b_val = vals[0]\n",
        "predictions = [(m_val * X[i]) + b_val for i in range(len(X))]\n",
        "plt.scatter(X, Y)\n",
        "plt.plot(X, predictions, color='r')"
      ],
      "execution_count": null,
      "outputs": [
        {
          "output_type": "execute_result",
          "data": {
            "text/plain": [
              "[<matplotlib.lines.Line2D at 0x7f933d168810>]"
            ]
          },
          "metadata": {},
          "execution_count": 26
        },
        {
          "output_type": "display_data",
          "data": {
            "text/plain": [
              "<Figure size 432x288 with 1 Axes>"
            ],
            "image/png": "[encoded data removed]"
          },
          "metadata": {
            "needs_background": "light"
          }
        }
      ]
    },
    {
      "cell_type": "markdown",
      "source": [
        "##Task 2 [BONUS]\n",
        "\n",
        "Now perform a similar regression model for $y = 3x-7$, and predict for $xϵ [-100,100]$, where you may determine necessary number of points. Also have to use `gradient_descent` function previously designed and hence plot the predicted graph. You may choose initial points, the range for delta ($Δ$), learning rate ($α$) and number of iteration (by trial and error) for which you will get better predicted outcome."
      ],
      "metadata": {
        "id": "5TTXZI-qOfhp"
      }
    },
    {
      "cell_type": "code",
      "source": [
        "#YOUR CODE HERE\n"
      ],
      "metadata": {
        "id": "7LX0_QFAOhb3"
      },
      "execution_count": null,
      "outputs": []
    }
  ]
}