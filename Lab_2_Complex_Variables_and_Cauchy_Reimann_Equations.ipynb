{
  "nbformat": 4,
  "nbformat_minor": 0,
  "metadata": {
    "colab": {
      "name": "Lab_2_Complex_Variables_and_Cauchy_Reimann_Equations.ipynb",
      "provenance": [],
      "include_colab_link": true
    },
    "kernelspec": {
      "name": "python3",
      "display_name": "Python 3"
    },
    "language_info": {
      "name": "python"
    }
  },
  "cells": [
    {
      "cell_type": "markdown",
      "metadata": {
        "id": "view-in-github",
        "colab_type": "text"
      },
      "source": [
        "<a href=\"https://colab.research.google.com/github/majumderarnob/BRACU_MAT215-Complex_Variables-Laplace_Trasformation/blob/main/Lab_2_Complex_Variables_and_Cauchy_Reimann_Equations.ipynb\" target=\"_parent\"><img src=\"https://colab.research.google.com/assets/colab-badge.svg\" alt=\"Open In Colab\"/></a>"
      ]
    },
    {
      "cell_type": "markdown",
      "source": [
        "#**Complex Variables and Cauchy-Reimann Equations**"
      ],
      "metadata": {
        "id": "JbVYw2ccWwbc"
      }
    },
    {
      "cell_type": "markdown",
      "source": [
        "Make sure you remove and fill in any place that says `# YOUR CODE HERE`, as well as your `NAME`, `ID`, and `LAB_SECTION` below:"
      ],
      "metadata": {
        "id": "du_9rFjDx059"
      }
    },
    {
      "cell_type": "code",
      "source": [
        "NAME = \"ARNOB MAJUMDER\"\n",
        "ID = \"20301089\"\n",
        "LAB_SECTION = \"09\""
      ],
      "metadata": {
        "id": "YjhULhXxx6bC"
      },
      "execution_count": null,
      "outputs": []
    },
    {
      "cell_type": "code",
      "source": [
        "# Importing necessary libraries\n",
        "\n",
        "import sympy as sp\n",
        "import numpy as np\n",
        "import math\n",
        "import cmath"
      ],
      "metadata": {
        "id": "VyU0ct1VWOvU"
      },
      "execution_count": null,
      "outputs": []
    },
    {
      "cell_type": "markdown",
      "source": [
        "##Part 1: Complex Variables\n"
      ],
      "metadata": {
        "id": "5pfbNzbhXGuT"
      }
    },
    {
      "cell_type": "code",
      "source": [
        "#Accessing Real and Imaginary Parts\n",
        "z1 = 3 + 2j\n",
        "print(z1.real)\n",
        "print(z1.imag)\n",
        "\n",
        "#Using Sympy\n",
        "print(sp.re(z1))\n",
        "print(sp.im(z1))"
      ],
      "metadata": {
        "colab": {
          "base_uri": "https://localhost:8080/"
        },
        "id": "tPuM1EXnY5Jq",
        "outputId": "01242236-ca85-4c58-b9a5-3b88523d4df3"
      },
      "execution_count": null,
      "outputs": [
        {
          "output_type": "stream",
          "name": "stdout",
          "text": [
            "3.0\n",
            "2.0\n",
            "3.00000000000000\n",
            "2.00000000000000\n"
          ]
        }
      ]
    },
    {
      "cell_type": "code",
      "source": [
        "#Calculating the Conjugate of a Complex Number\n",
        "z2 = 3 + 2j\n",
        "print(z2.conjugate())\n",
        "print(sp.conjugate(z2))  #Using Sympy\n"
      ],
      "metadata": {
        "colab": {
          "base_uri": "https://localhost:8080/"
        },
        "id": "WDXWi2e4ZwWv",
        "outputId": "055d7ba1-3b18-4934-fdc3-0373ab4cc305"
      },
      "execution_count": null,
      "outputs": [
        {
          "output_type": "stream",
          "name": "stdout",
          "text": [
            "(3-2j)\n",
            "3.0 - 2.0*I\n"
          ]
        }
      ]
    },
    {
      "cell_type": "code",
      "source": [
        "#Complex Numbers Arithmetic\n",
        "\n",
        "z1 = 2 + 3j\n",
        "z2 = 4 + 5j\n",
        "print(z1 + z2) #Addition\n",
        "print(z1 - z2) #Subtraction\n",
        "\n",
        "# z1*z2 = (x1*x2-y1*y2)+(x1*y2+x2*y1)i\n",
        "print(z1 * z2) #Multiplication\n",
        "\n",
        "print(z1 /z2) #Division\n",
        "print(z1**2)  #Exponent\n",
        "\n",
        "print(abs(z1)) #Magnitude, |z1|"
      ],
      "metadata": {
        "colab": {
          "base_uri": "https://localhost:8080/"
        },
        "id": "uiiRWYH_aJ5E",
        "outputId": "d7092b6f-dc53-4a22-e523-e5dbf9356a30"
      },
      "execution_count": null,
      "outputs": [
        {
          "output_type": "stream",
          "name": "stdout",
          "text": [
            "(6+8j)\n",
            "(-2-2j)\n",
            "(-7+22j)\n",
            "(0.5609756097560976+0.0487804878048781j)\n",
            "(-5+12j)\n",
            "3.605551275463989\n"
          ]
        }
      ]
    },
    {
      "cell_type": "markdown",
      "source": [
        "###Extracting the Root of a Complex Number\n",
        "\n",
        "A fourth-degree polynomial $x^4 + 1$, which can be written as an equation $x^4 = -1$, has four complex roots:\n",
        "\n",
        "$$z_0 = -√2/2 + (√2/2)i$$\n",
        "$$z_1 = -√2/2 - (√2/2)i$$\n",
        "$$z_2 = √2/2 + (√2/2)i$$\n",
        "$$z_3 = √2/2 - (√2/2)i$$\n",
        "\n",
        "The mathematical formula for finding all complex roots takes advantage of the trigonometric form of complex numbers:\n",
        "\n",
        "$$z_{k}=r\\left(\\cos \\left(\\varphi+\\frac{2 \\pi k}{n}\\right)+j \\sin \\left(\\varphi+\\frac{2 \\pi k}{n}\\right)\\right)$$"
      ],
      "metadata": {
        "id": "E9f5H8-Acc9k"
      }
    },
    {
      "cell_type": "code",
      "source": [
        "print(np.roots([1, 0, 0, 0, 1]))  # Coefficients of the polynomial x**4 + 1"
      ],
      "metadata": {
        "colab": {
          "base_uri": "https://localhost:8080/"
        },
        "id": "TB2_CtQ8eCVu",
        "outputId": "e0a918d7-26ba-4996-e69b-9a6eca0cab66"
      },
      "execution_count": null,
      "outputs": [
        {
          "output_type": "stream",
          "name": "stdout",
          "text": [
            "[-0.70710678+0.70710678j -0.70710678-0.70710678j  0.70710678+0.70710678j\n",
            "  0.70710678-0.70710678j]\n"
          ]
        }
      ]
    },
    {
      "cell_type": "code",
      "source": [
        "print(math.sqrt(-1)) #produces error"
      ],
      "metadata": {
        "id": "ew7oXOGeQtLZ"
      },
      "execution_count": null,
      "outputs": []
    },
    {
      "cell_type": "code",
      "source": [
        "print(cmath.sqrt(-1)) "
      ],
      "metadata": {
        "colab": {
          "base_uri": "https://localhost:8080/"
        },
        "id": "3tPlyqwJeanx",
        "outputId": "94478419-4390-402c-c523-41b837792ea2"
      },
      "execution_count": null,
      "outputs": [
        {
          "output_type": "stream",
          "name": "stdout",
          "text": [
            "1j\n"
          ]
        }
      ]
    },
    {
      "cell_type": "markdown",
      "source": [
        "###Task 1: Find the three solutions of the equation, $x^3+1=0$"
      ],
      "metadata": {
        "id": "PGgndgYte6cA"
      }
    },
    {
      "cell_type": "code",
      "source": [
        "# YOUR CODE HERE\n",
        "print(np.roots([1, 0, 0, 1]))"
      ],
      "metadata": {
        "id": "XNICv1ouezsb",
        "colab": {
          "base_uri": "https://localhost:8080/"
        },
        "outputId": "b85f4ca2-e274-44c4-ede0-4adbeb332c14"
      },
      "execution_count": null,
      "outputs": [
        {
          "output_type": "stream",
          "name": "stdout",
          "text": [
            "[-1. +0.j         0.5+0.8660254j  0.5-0.8660254j]\n"
          ]
        }
      ]
    },
    {
      "cell_type": "markdown",
      "source": [
        "###Converting Between Cartesian and Polar Form\n",
        "\n",
        "Cartesian Form\t$$z = x + yi$$\n",
        "\n",
        "Polar Form $$\n",
        "z=x+i y=r(\\cos \\phi+i \\sin \\phi)=r e^{i \\phi}\n",
        "$$\n",
        "\n",
        "$$r=|z|=\\sqrt(x^2+y^2)$$\n",
        "\n",
        "$$\n",
        "\\phi=\\tan ^{-1}\\left(\\frac{y}{x}\\right)\n",
        "$$"
      ],
      "metadata": {
        "id": "Hj0XBEw4hrKR"
      }
    },
    {
      "cell_type": "code",
      "source": [
        "z0 = 3 + 2j\n",
        "angle=math.atan(z0.imag / z0.real)\n",
        "radius=abs(z0)\n",
        "print(radius,angle)\n",
        "radius1, angle1 = cmath.polar(z0)\n",
        "print(radius1,angle1)\n",
        "print(cmath.isclose(radius, radius1))\n",
        "print(cmath.isclose(angle, angle1))"
      ],
      "metadata": {
        "colab": {
          "base_uri": "https://localhost:8080/"
        },
        "id": "Fx-X6K2Ijsrx",
        "outputId": "065c710b-6409-4528-b79e-45efa4290569"
      },
      "execution_count": null,
      "outputs": [
        {
          "output_type": "stream",
          "name": "stdout",
          "text": [
            "3.605551275463989 0.5880026035475675\n",
            "3.605551275463989 0.5880026035475675\n",
            "True\n",
            "True\n"
          ]
        }
      ]
    },
    {
      "cell_type": "markdown",
      "source": [
        "###Task 2: Find the equivalent polar form of $z=34+27i$, and convert it back to cartesian form to see if they are equal.\n",
        "\n",
        "*Hint: You may want to look into `cmath.rect()`, to convert back.*"
      ],
      "metadata": {
        "id": "eaQ53CVWkwsm"
      }
    },
    {
      "cell_type": "code",
      "source": [
        "# YOUR CODE HERE\n",
        "z = 34 + 27j\n",
        "angle = math.atan(z.imag / z.real)\n",
        "radius = abs(z)\n",
        "print(radius, angle)\n",
        "z1 = cmath.rect(radius, angle)\n",
        "print(z1)\n",
        "print(cmath.isclose(z, z1))"
      ],
      "metadata": {
        "id": "BP9WZt1zgncB",
        "colab": {
          "base_uri": "https://localhost:8080/"
        },
        "outputId": "2e6bbbf3-39a8-4c07-a77a-6b51410df931"
      },
      "execution_count": null,
      "outputs": [
        {
          "output_type": "stream",
          "name": "stdout",
          "text": [
            "43.41658669218482 0.6711438354360088\n",
            "(34+27j)\n",
            "True\n"
          ]
        }
      ]
    },
    {
      "cell_type": "markdown",
      "source": [
        "##Part 2: Cauchy-Reimann Equations\n",
        "\n",
        "Given that a function $f$ can be expressed as such,\n",
        "$$\n",
        "f(z) = u(x, y) + iv(x, y)\n",
        "$$\n",
        "\n",
        "and if a derivative of $f$ exists at $z_0 = (x_0, y_0),$ then the\n",
        "first-order partial derivatives of the component functions of\n",
        "$f$, which are $u$ and $v$, must satisfy a pair of equations known\n",
        "as the Cauchy-Riemann equations.\n",
        "\n",
        "Let us first take the following:\n",
        "$$\n",
        "z_0 = x_0 + iy_0 , $$   \n",
        "$$∆z = ∆x + i∆y,$$\n",
        "\n",
        "and,\n",
        "$$∆w = f(z_0 + ∆z) − f(z_0)$$\n",
        "\n",
        "Now, assuming that the following derivative exists:\n",
        "$$\n",
        "f^{\\prime}\\left(z_{0}\\right)=\\lim _{\\Delta z \\rightarrow 0} \\frac{\\Delta w}{\\Delta z}\n",
        "$$\n",
        "\n",
        "Isolating each of the real and imaginary limit components and then finding out their first-order partial derivatives with respect to $x$ then gives us:\n",
        "\n",
        "$$\n",
        "\\begin{aligned}\n",
        "\\lim _{(\\Delta x, \\Delta y) \\rightarrow(0,0)}\\left(R e \\frac{\\Delta w}{\\Delta z}\\right) &=\\lim _{\\Delta x \\rightarrow 0} \\frac{u\\left(x_{0}+\\Delta x, y_{0}\\right)-u\\left(x_{0}, y_{0}\\right)}{\\Delta x} \\\\\n",
        "&=u_{x}\\left(x_{0}, y_{0}\\right)\n",
        "\\end{aligned}\n",
        "$$\n",
        "\n",
        "and\n",
        "\n",
        "$$\n",
        "\\begin{aligned}\n",
        "\\lim _{(\\Delta x, \\Delta y) \\rightarrow(0,0)}\\left(\\operatorname{Im} \\frac{\\Delta w}{\\Delta z}\\right) &=\\lim _{\\Delta x \\rightarrow 0} \\frac{v\\left(x_{0}+\\Delta x, y_{0}\\right)-v\\left(x_{0}, y_{0}\\right)}{\\Delta x} \\\\\n",
        "&=v_{x}\\left(x_{0}, y_{0}\\right)\n",
        "\\end{aligned}\n",
        "$$\n",
        "\n",
        "On substituting the previous two equations, we get:\n",
        "\n",
        "$$f'(z_0) = u_x(x_0, y_0) + iv_x(x_0, y_0) $$\n",
        "\n",
        "On finding the partial first-derivatives of $u$ and $v$ with respect to $y$,\n",
        "we get:\n",
        "\n",
        "$$\n",
        "\\begin{aligned}\n",
        "\\lim _{(\\Delta x, \\Delta y) \\rightarrow(0,0)}\\left(R e \\frac{\\Delta w}{\\Delta z}\\right) &=\\lim _{\\Delta y \\rightarrow 0} \\frac{v\\left(x_{0}+\\Delta y, y_{0}\\right)-v\\left(x_{0}, y_{0}\\right)}{\\Delta y} \\\\\n",
        "&=v_{y}\\left(x_{0}, y_{0}\\right)\n",
        "\\end{aligned}\n",
        "$$\n",
        "and\n",
        "$$\n",
        "\\begin{aligned}\n",
        "\\lim _{(\\Delta x, \\Delta y) \\rightarrow(0,0)}\\left(\\operatorname{Im} \\frac{\\Delta w}{\\Delta z}\\right) &=\\lim _{\\Delta y \\rightarrow 0} \\frac{u\\left(x_{0}+\\Delta y, y_{0}\\right)-u\\left(x_{0}, y_{0}\\right)}{\\Delta y} \\\\\n",
        "&=v_{y}\\left(x_{0}, y_{0}\\right)\n",
        "\\end{aligned}\n",
        "$$\n",
        "\n",
        "Hence, the equations abides as such:\n",
        "\n",
        "$$f'(z_0) = −i[u_y(x_0, y_0) + iv_y(x_0, y_0)]$$\n",
        "\n",
        "By individually equating the real parts and imaginary parts of each\n",
        "of these two equations of $f'(z_0)$, we get the Cauchy-Riemann equations:\n",
        "\n",
        "$$u_x(x_0, y_0) = v_y(x_0, y_0) $$\n",
        "and $$u_y(x_0, y_0) = −v_x(x_0, y_0)$$\n",
        "\n",
        "\n",
        "\n",
        "###Task 3: Complete the code below:\n",
        "\n",
        "For this example, we will use a $f(z)$ to find it's Cauchy-Reimann Equations, and thus determining whether it is differentiable or not.\n",
        "\n",
        "\n",
        "\n",
        "*Hint: You will need `Sympy` to solve this problem. To learn more about `Sympy`, click [here](https://pianofisica.hatenablog.com/entry/2020/05/12/173000#Complex-number)*."
      ],
      "metadata": {
        "id": "lVeLMPskJv76"
      }
    },
    {
      "cell_type": "code",
      "source": [
        "from sympy import*\n",
        "def CR_Equations(f):\n",
        "\n",
        "  # YOUR CODE HERE\n",
        "  u= sp.re(f)\n",
        "  v= sp.im(f)\n",
        "  u_x= diff(u, x)\n",
        "  u_y= diff(u, y)\n",
        "  v_x= diff (v, x)\n",
        "  v_y= diff (v, y)\n",
        "\n",
        "  print(\"f = \"+str(f))\n",
        "  print(\"u = \"+str(u))\n",
        "  print(\"v = \"+str(v))\n",
        "  print(\"u_x = \"+str(u_x))\n",
        "  print(\"u_y = \"+str(u_y))\n",
        "  print(\"v_x = \"+str(v_x))\n",
        "  print(\"v_y = \"+str(v_y))\n",
        "\n",
        "  if u_x == v_y and u_y == -v_x:\n",
        "    return \"The function f = \"+str(f)+\" satisfies the Cauchy–Riemann Equations and is differentiable at z = z0 ∈ C.\"\n",
        "  else:\n",
        "    return \"The function f = \"+str(f)+\" does not satisfy the Cauchy–Riemann Equations, so f is nowhere differentiable.\""
      ],
      "metadata": {
        "id": "xoq2HR8jy4d-"
      },
      "execution_count": null,
      "outputs": []
    },
    {
      "cell_type": "markdown",
      "source": [
        "###3.1. Use Cauchy-Riemann equations to prove that $f(z)=z^2$ is differentiable at $z=z_0∈ C.$\n",
        "\n",
        "###3.2. Use Cauchy-Riemann equations to show that $f(z)=\\bar{z}$ is nowhere differentiable.\n"
      ],
      "metadata": {
        "id": "Vj90pHyCTqdd"
      }
    },
    {
      "cell_type": "code",
      "source": [
        "z = sp.symbols('z', complex=True)\n",
        "x = sp.symbols('x', real=True)\n",
        "y = sp.symbols('y', real=True)\n",
        "z=(x+sp.I*y)\n",
        "f = z.conjugate()\n",
        "\n",
        "print(CR_Equations(f))"
      ],
      "metadata": {
        "id": "8KNOcpHRzhxO",
        "colab": {
          "base_uri": "https://localhost:8080/"
        },
        "outputId": "fe0f366d-77c7-4e8b-b9bc-be45702bc728"
      },
      "execution_count": null,
      "outputs": [
        {
          "output_type": "stream",
          "name": "stdout",
          "text": [
            "f = x - I*y\n",
            "u = x\n",
            "v = -y\n",
            "u_x = 1\n",
            "u_y = 0\n",
            "v_x = 0\n",
            "v_y = -1\n",
            "The function f = x - I*y does not satisfy the Cauchy–Riemann Equations, so f is nowhere differentiable.\n"
          ]
        }
      ]
    },
    {
      "cell_type": "code",
      "source": [
        "z = sp.symbols('z', complex=True)\n",
        "x = sp.symbols('x', real=True)\n",
        "y = sp.symbols('y', real=True)\n",
        "z = (x+sp.I*y)\n",
        "f = z ** 2\n",
        "\n",
        "print(CR_Equations(f))"
      ],
      "metadata": {
        "colab": {
          "base_uri": "https://localhost:8080/"
        },
        "id": "39lVT6ZwQX0P",
        "outputId": "aec966b8-628e-4d50-f7de-9435d58910bd"
      },
      "execution_count": null,
      "outputs": [
        {
          "output_type": "stream",
          "name": "stdout",
          "text": [
            "f = (x + I*y)**2\n",
            "u = x**2 - y**2\n",
            "v = 2*x*y\n",
            "u_x = 2*x\n",
            "u_y = -2*y\n",
            "v_x = 2*y\n",
            "v_y = 2*x\n",
            "The function f = (x + I*y)**2 satisfies the Cauchy–Riemann Equations and is differentiable at z = z0 ∈ C.\n"
          ]
        }
      ]
    }
  ]
}